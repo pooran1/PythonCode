{
 "cells": [
  {
   "cell_type": "code",
   "execution_count": 6,
   "id": "8b4aea92",
   "metadata": {},
   "outputs": [],
   "source": [
    "class Restaurants():\n",
    "    def __init__(self, restaurant_name,cuisine_type):\n",
    "        self.restaurant_name= restaurant_name\n",
    "        self.cuisine_type=cuisine_type\n",
    "    def describe_restaurant(self):\n",
    "        print(f'''\n",
    "        wellcome\n",
    "        Restaurant_name={self.restaurant_name}\n",
    "        Cusisine_type={self.cuisine_type}\n",
    "        \n",
    "        ''')\n",
    "        \n",
    "        def open_restaurant(self):\n",
    "            print(f'{self.restaurant_name} is open')"
   ]
  },
  {
   "cell_type": "code",
   "execution_count": null,
   "id": "be2364d7",
   "metadata": {},
   "outputs": [],
   "source": []
  },
  {
   "cell_type": "code",
   "execution_count": 7,
   "id": "d0f699c9",
   "metadata": {},
   "outputs": [],
   "source": [
    "old_res= Restaurants(\"partab\", \"daal\")\n",
    "new_res=Restaurants(\"rai\",\"chawal daal\")\n"
   ]
  },
  {
   "cell_type": "code",
   "execution_count": 8,
   "id": "410d5e07",
   "metadata": {},
   "outputs": [
    {
     "data": {
      "text/plain": [
       "'partab'"
      ]
     },
     "execution_count": 8,
     "metadata": {},
     "output_type": "execute_result"
    }
   ],
   "source": [
    "old_res.restaurant_name"
   ]
  },
  {
   "cell_type": "code",
   "execution_count": 9,
   "id": "24f1d579",
   "metadata": {},
   "outputs": [
    {
     "name": "stdout",
     "output_type": "stream",
     "text": [
      "\n",
      "        wellcome\n",
      "        Restaurant_name=partab\n",
      "        Cusisine_type=daal\n",
      "        \n",
      "        \n"
     ]
    }
   ],
   "source": [
    "# class ke define\n",
    "#class  attribute thorugh \n",
    "\n",
    "Restaurants.describe_restaurant(old_res)"
   ]
  },
  {
   "cell_type": "code",
   "execution_count": 11,
   "id": "f00e5dda",
   "metadata": {},
   "outputs": [],
   "source": [
    "class User():\n",
    "    def __init__(self, Fisrt_name, Last_name, Age):\n",
    "        self.Fisrt_name= Fisrt_name\n",
    "        self.Last_name= Last_name\n",
    "        self.Age=Age\n",
    "    \n",
    "    def discribe_user(self):\n",
    "        print(f'''\n",
    "        user profile \n",
    "        first_name={Fisrt_name}\n",
    "        last_name={Last_name}\n",
    "        ''')\n",
    "    def greet(self):\n",
    "        print(\"hugyuftfyuihhig\")"
   ]
  },
  {
   "cell_type": "code",
   "execution_count": null,
   "id": "c47ed4cd",
   "metadata": {},
   "outputs": [],
   "source": []
  },
  {
   "cell_type": "code",
   "execution_count": null,
   "id": "d1ac866d",
   "metadata": {},
   "outputs": [],
   "source": [
    "class Moblie():\n",
    "    def __init__(self, model, brand, men,  color=\"black\"):\n",
    "        self.model= model\n",
    "        self.brand= brand\n",
    "        self.men = men \n",
    "        self.color=color\n",
    "        self.space=\"new\"\n",
    "        \n",
    "    def dfg(self ,concat_no):\n",
    "        print({concat_no})"
   ]
  },
  {
   "cell_type": "code",
   "execution_count": null,
   "id": "2f678c9c",
   "metadata": {},
   "outputs": [],
   "source": []
  },
  {
   "cell_type": "code",
   "execution_count": 12,
   "id": "923f7e17",
   "metadata": {},
   "outputs": [],
   "source": [
    "class Car(): \n",
    "    def __init__(self, make, model, year):\n",
    "        self.make = make\n",
    "        self.model = model\n",
    "        self.year = year\n",
    "        self.odometer_reading = 0 \n",
    "    def get_descriptive_name(self): \n",
    "        long_name = str(self.year) + ' ' + self.make + ' ' + self.model\n",
    "        return long_name.title()    \n",
    "    def get_odometer_reading(self): \n",
    "        return self.odometer_reading    \n",
    "    def set_odometer_reading(self,new_reading):\n",
    "        \n",
    "        self.odometer_reading = new_reading"
   ]
  },
  {
   "cell_type": "code",
   "execution_count": 14,
   "id": "2513a3f2",
   "metadata": {},
   "outputs": [],
   "source": [
    "car1=Car(\"audi\", 'a4', 2022)"
   ]
  },
  {
   "cell_type": "code",
   "execution_count": 15,
   "id": "d41860b0",
   "metadata": {},
   "outputs": [
    {
     "data": {
      "text/plain": [
       "'2022 Audi A4'"
      ]
     },
     "execution_count": 15,
     "metadata": {},
     "output_type": "execute_result"
    }
   ],
   "source": [
    "car1.get_descriptive_name()"
   ]
  },
  {
   "cell_type": "code",
   "execution_count": 17,
   "id": "5415f887",
   "metadata": {},
   "outputs": [
    {
     "data": {
      "text/plain": [
       "0"
      ]
     },
     "execution_count": 17,
     "metadata": {},
     "output_type": "execute_result"
    }
   ],
   "source": [
    "car1.get_odometer_reading()"
   ]
  },
  {
   "cell_type": "code",
   "execution_count": 18,
   "id": "1ae870ee",
   "metadata": {},
   "outputs": [],
   "source": [
    "car1.set_odometer_reading(200)"
   ]
  },
  {
   "cell_type": "code",
   "execution_count": 19,
   "id": "11eb61ac",
   "metadata": {},
   "outputs": [
    {
     "data": {
      "text/plain": [
       "200"
      ]
     },
     "execution_count": 19,
     "metadata": {},
     "output_type": "execute_result"
    }
   ],
   "source": [
    "car1.get_odometer_reading()"
   ]
  },
  {
   "cell_type": "code",
   "execution_count": null,
   "id": "76918f07",
   "metadata": {},
   "outputs": [],
   "source": []
  },
  {
   "cell_type": "code",
   "execution_count": null,
   "id": "6dda9201",
   "metadata": {},
   "outputs": [],
   "source": []
  },
  {
   "cell_type": "code",
   "execution_count": null,
   "id": "b65ac9c7",
   "metadata": {},
   "outputs": [],
   "source": []
  },
  {
   "cell_type": "code",
   "execution_count": 2,
   "id": "a5f8c1d9",
   "metadata": {},
   "outputs": [
    {
     "data": {
      "text/plain": [
       "56"
      ]
     },
     "execution_count": 2,
     "metadata": {},
     "output_type": "execute_result"
    }
   ],
   "source": []
  },
  {
   "cell_type": "code",
   "execution_count": null,
   "id": "266d670e",
   "metadata": {},
   "outputs": [],
   "source": []
  }
 ],
 "metadata": {
  "kernelspec": {
   "display_name": "Python 3 (ipykernel)",
   "language": "python",
   "name": "python3"
  },
  "language_info": {
   "codemirror_mode": {
    "name": "ipython",
    "version": 3
   },
   "file_extension": ".py",
   "mimetype": "text/x-python",
   "name": "python",
   "nbconvert_exporter": "python",
   "pygments_lexer": "ipython3",
   "version": "3.9.7"
  }
 },
 "nbformat": 4,
 "nbformat_minor": 5
}
