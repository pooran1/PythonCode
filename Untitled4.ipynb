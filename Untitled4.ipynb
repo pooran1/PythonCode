{
 "cells": [
  {
   "cell_type": "markdown",
   "id": "50736fba",
   "metadata": {},
   "source": [
    "# inheritance:\n",
    "    object= class\n",
    "    class\n",
    "code reutilizations"
   ]
  },
  {
   "cell_type": "code",
   "execution_count": 8,
   "id": "d80c415b",
   "metadata": {},
   "outputs": [],
   "source": [
    "class Car():\n",
    "    def __init__(self, car_name,engin, seats,wheels,steering, breaks):\n",
    "        self.engin=engin\n",
    "        self.seats=seats\n",
    "        self.wheels=wheels\n",
    "        self.steering=steering\n",
    "        self.breaks= breaks\n",
    "        self.car_name= car_name\n",
    "    def nun(self):\n",
    "        print(f\"{self.car_name} is runing\")\n",
    "    def stop(self):\n",
    "        print(f\"{self.car_name} is stop\")\n",
    "    def discription(self):\n",
    "        print(f\"\"\"\n",
    "              {self.engin}\n",
    "        {self.seat}        \n",
    "        {self.wheels}\n",
    "        {self.steering}\n",
    "        {self.breaks}\n",
    "        {self.car_name}\n",
    "            \"\"\")\n",
    "            "
   ]
  },
  {
   "cell_type": "code",
   "execution_count": null,
   "id": "ee6d5ab0",
   "metadata": {},
   "outputs": [],
   "source": []
  },
  {
   "cell_type": "code",
   "execution_count": null,
   "id": "533f50df",
   "metadata": {},
   "outputs": [],
   "source": []
  },
  {
   "cell_type": "code",
   "execution_count": 9,
   "id": "08071d06",
   "metadata": {},
   "outputs": [],
   "source": [
    "car1=Car(\"civic\",\"500cc\",4,4,\"power\",\"dics\")"
   ]
  },
  {
   "cell_type": "code",
   "execution_count": null,
   "id": "14a30194",
   "metadata": {},
   "outputs": [],
   "source": []
  },
  {
   "cell_type": "code",
   "execution_count": 6,
   "id": "118255ec",
   "metadata": {},
   "outputs": [
    {
     "data": {
      "text/plain": [
       "'civic'"
      ]
     },
     "execution_count": 6,
     "metadata": {},
     "output_type": "execute_result"
    }
   ],
   "source": [
    "car1.breaks"
   ]
  },
  {
   "cell_type": "code",
   "execution_count": 10,
   "id": "a980b82a",
   "metadata": {},
   "outputs": [
    {
     "name": "stdout",
     "output_type": "stream",
     "text": [
      "500cc is stop\n"
     ]
    }
   ],
   "source": [
    "car1.stop()"
   ]
  },
  {
   "cell_type": "code",
   "execution_count": 11,
   "id": "5f5314b6",
   "metadata": {},
   "outputs": [
    {
     "data": {
      "text/plain": [
       "'500cc'"
      ]
     },
     "execution_count": 11,
     "metadata": {},
     "output_type": "execute_result"
    }
   ],
   "source": [
    "car1.car_name"
   ]
  },
  {
   "cell_type": "code",
   "execution_count": 12,
   "id": "3f2e3b1b",
   "metadata": {},
   "outputs": [],
   "source": [
    "class Achi_car(Car):\n",
    "    pass"
   ]
  },
  {
   "cell_type": "code",
   "execution_count": 13,
   "id": "eb81eb4d",
   "metadata": {},
   "outputs": [],
   "source": [
    "car2=Achi_car(\"tarzan\",\"600cc\",2,4,\"power\",\"dics\")"
   ]
  },
  {
   "cell_type": "code",
   "execution_count": 14,
   "id": "d094cf0f",
   "metadata": {},
   "outputs": [
    {
     "data": {
      "text/plain": [
       "'tarzan'"
      ]
     },
     "execution_count": 14,
     "metadata": {},
     "output_type": "execute_result"
    }
   ],
   "source": [
    "car2.car_name"
   ]
  },
  {
   "cell_type": "code",
   "execution_count": 33,
   "id": "1b668742",
   "metadata": {},
   "outputs": [],
   "source": [
    "class Human():\n",
    "    def __init__(self,name, gender, age):\n",
    "        self.name= name\n",
    "        self.gender= gender\n",
    "        self.age=age\n",
    "    def eating(self):\n",
    "        print(f\"{self.name} is eating\")\n",
    "    def sleeping(self):\n",
    "        print(f\"{self.name} is sleeping\")"
   ]
  },
  {
   "cell_type": "code",
   "execution_count": null,
   "id": "cbca22bc",
   "metadata": {},
   "outputs": [],
   "source": []
  },
  {
   "cell_type": "code",
   "execution_count": null,
   "id": "96fdf1b9",
   "metadata": {},
   "outputs": [],
   "source": []
  },
  {
   "cell_type": "code",
   "execution_count": 34,
   "id": "87b7e335",
   "metadata": {},
   "outputs": [],
   "source": [
    "man_1=Human(\"jansir\", \"female\", \"16\")"
   ]
  },
  {
   "cell_type": "code",
   "execution_count": 35,
   "id": "bc16f46e",
   "metadata": {},
   "outputs": [
    {
     "name": "stdout",
     "output_type": "stream",
     "text": [
      "jansir is eating\n"
     ]
    }
   ],
   "source": [
    "man_1.eating()"
   ]
  },
  {
   "cell_type": "code",
   "execution_count": null,
   "id": "c6425659",
   "metadata": {},
   "outputs": [],
   "source": []
  },
  {
   "cell_type": "code",
   "execution_count": null,
   "id": "783e387d",
   "metadata": {},
   "outputs": [],
   "source": []
  },
  {
   "cell_type": "code",
   "execution_count": 25,
   "id": "69448c03",
   "metadata": {},
   "outputs": [
    {
     "data": {
      "text/plain": [
       "'female'"
      ]
     },
     "execution_count": 25,
     "metadata": {},
     "output_type": "execute_result"
    }
   ],
   "source": [
    "man_1.gender"
   ]
  },
  {
   "cell_type": "code",
   "execution_count": null,
   "id": "7ae667c4",
   "metadata": {},
   "outputs": [],
   "source": []
  },
  {
   "cell_type": "code",
   "execution_count": 36,
   "id": "74b931f2",
   "metadata": {},
   "outputs": [],
   "source": [
    "class Bachi(Human):\n",
    "    pass"
   ]
  },
  {
   "cell_type": "code",
   "execution_count": null,
   "id": "dd233951",
   "metadata": {},
   "outputs": [],
   "source": []
  },
  {
   "cell_type": "code",
   "execution_count": null,
   "id": "47d4a9c3",
   "metadata": {},
   "outputs": [],
   "source": []
  },
  {
   "cell_type": "code",
   "execution_count": 37,
   "id": "e2374bb9",
   "metadata": {},
   "outputs": [],
   "source": [
    "girl=Bachi(\"chuti\",\"female\",\"5\")"
   ]
  },
  {
   "cell_type": "code",
   "execution_count": null,
   "id": "cefad160",
   "metadata": {},
   "outputs": [],
   "source": []
  },
  {
   "cell_type": "code",
   "execution_count": null,
   "id": "3328e182",
   "metadata": {},
   "outputs": [],
   "source": []
  },
  {
   "cell_type": "code",
   "execution_count": 38,
   "id": "0942bbeb",
   "metadata": {},
   "outputs": [
    {
     "data": {
      "text/plain": [
       "'chuti'"
      ]
     },
     "execution_count": 38,
     "metadata": {},
     "output_type": "execute_result"
    }
   ],
   "source": [
    "girl.name"
   ]
  },
  {
   "cell_type": "code",
   "execution_count": 39,
   "id": "2f843997",
   "metadata": {},
   "outputs": [
    {
     "name": "stdout",
     "output_type": "stream",
     "text": [
      "chuti is eating\n"
     ]
    }
   ],
   "source": [
    "girl.eating()"
   ]
  },
  {
   "cell_type": "code",
   "execution_count": null,
   "id": "f00721da",
   "metadata": {},
   "outputs": [],
   "source": []
  },
  {
   "cell_type": "code",
   "execution_count": 42,
   "id": "f621ebe0",
   "metadata": {},
   "outputs": [],
   "source": [
    "class Car():\n",
    " \n",
    "    def __init__(self, make, model, year):\n",
    "        self.make = make\n",
    "        self.model = model\n",
    "        self.year = year\n",
    "        self.odometer_reading = 0\n",
    "\n",
    "    def get_descriptive_name(self):\n",
    "        long_name = str(self.year) + ' ' + self.make + ' ' + self.model\n",
    "        return long_name.title()\n",
    "\n",
    "    def read_odometer(self):\n",
    "        print(\"This car has \" + str(self.odometer_reading) + \" miles on it.\")\n",
    "\n",
    "    def update_odometer(self, mileage):\n",
    "        if mileage >= self.odometer_reading:\n",
    "            self.odometer_reading = mileage\n",
    "        else:\n",
    "            print(\"You can't roll back an odometer!\")\n",
    "\n",
    "    def increment_odometer(self, miles):\n",
    "        self.odometer_reading += miles\n",
    "    \n",
    "    def fill_gas_tank(self):\n",
    "        print(\"this fill the gas in tanki\")"
   ]
  },
  {
   "cell_type": "code",
   "execution_count": null,
   "id": "ef642a54",
   "metadata": {},
   "outputs": [],
   "source": []
  },
  {
   "cell_type": "code",
   "execution_count": 50,
   "id": "20e53de8",
   "metadata": {},
   "outputs": [],
   "source": [
    "new2=Car(\"Car\", \"2011\",\"2011\")"
   ]
  },
  {
   "cell_type": "code",
   "execution_count": 52,
   "id": "5e0f37ae",
   "metadata": {},
   "outputs": [
    {
     "name": "stdout",
     "output_type": "stream",
     "text": [
      "this fill the gas in tanki\n"
     ]
    }
   ],
   "source": [
    "new2.fill_gas_tank()"
   ]
  },
  {
   "cell_type": "code",
   "execution_count": null,
   "id": "364967db",
   "metadata": {},
   "outputs": [],
   "source": []
  },
  {
   "cell_type": "code",
   "execution_count": null,
   "id": "df394a8a",
   "metadata": {},
   "outputs": [],
   "source": []
  },
  {
   "cell_type": "code",
   "execution_count": 46,
   "id": "0398b5e8",
   "metadata": {},
   "outputs": [],
   "source": [
    "class ElectricCar(Car):\n",
    "    def __init__(self, make, model, year):\n",
    " \n",
    "        super().__init__(make, model, year)\n",
    "        #super()takes you to the parent class initializer\n",
    "    \n",
    "    def fill_gas_tank(self):\n",
    "        print(\"this not  fill the gas in tanki\")"
   ]
  },
  {
   "cell_type": "code",
   "execution_count": null,
   "id": "84a38ba5",
   "metadata": {},
   "outputs": [],
   "source": []
  },
  {
   "cell_type": "code",
   "execution_count": 47,
   "id": "8447ee2d",
   "metadata": {},
   "outputs": [],
   "source": [
    "new=ElectricCar(\"ElectricCar\", \"2022\",\"2022\")"
   ]
  },
  {
   "cell_type": "code",
   "execution_count": null,
   "id": "1a296ca7",
   "metadata": {},
   "outputs": [],
   "source": []
  },
  {
   "cell_type": "code",
   "execution_count": 48,
   "id": "b51954fd",
   "metadata": {},
   "outputs": [
    {
     "name": "stdout",
     "output_type": "stream",
     "text": [
      "this not  fill the gas in tanki\n"
     ]
    }
   ],
   "source": [
    "new.fill_gas_tank()"
   ]
  },
  {
   "cell_type": "code",
   "execution_count": null,
   "id": "cd36b1d9",
   "metadata": {},
   "outputs": [],
   "source": []
  },
  {
   "cell_type": "code",
   "execution_count": null,
   "id": "86f5b85d",
   "metadata": {},
   "outputs": [],
   "source": []
  },
  {
   "cell_type": "code",
   "execution_count": null,
   "id": "ba34e062",
   "metadata": {},
   "outputs": [],
   "source": []
  },
  {
   "cell_type": "code",
   "execution_count": null,
   "id": "99885a64",
   "metadata": {},
   "outputs": [],
   "source": []
  },
  {
   "cell_type": "code",
   "execution_count": null,
   "id": "f8d1dcc0",
   "metadata": {},
   "outputs": [],
   "source": []
  },
  {
   "cell_type": "code",
   "execution_count": null,
   "id": "34186295",
   "metadata": {},
   "outputs": [],
   "source": []
  }
 ],
 "metadata": {
  "kernelspec": {
   "display_name": "Python 3 (ipykernel)",
   "language": "python",
   "name": "python3"
  },
  "language_info": {
   "codemirror_mode": {
    "name": "ipython",
    "version": 3
   },
   "file_extension": ".py",
   "mimetype": "text/x-python",
   "name": "python",
   "nbconvert_exporter": "python",
   "pygments_lexer": "ipython3",
   "version": "3.9.7"
  }
 },
 "nbformat": 4,
 "nbformat_minor": 5
}
