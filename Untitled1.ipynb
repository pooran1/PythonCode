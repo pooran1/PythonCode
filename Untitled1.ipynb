{
 "cells": [
  {
   "cell_type": "markdown",
   "id": "cd171758",
   "metadata": {},
   "source": [
    "# list in dictionary"
   ]
  },
  {
   "cell_type": "code",
   "execution_count": 23,
   "id": "33b5c508",
   "metadata": {},
   "outputs": [],
   "source": [
    "list_of_class={\"student\":[\"pooran\", \"arun\",\"sohiab\"], \"marks\":[92,94,94]}"
   ]
  },
  {
   "cell_type": "code",
   "execution_count": 24,
   "id": "273f2ab3",
   "metadata": {},
   "outputs": [
    {
     "data": {
      "text/html": [
       "<div>\n",
       "<style scoped>\n",
       "    .dataframe tbody tr th:only-of-type {\n",
       "        vertical-align: middle;\n",
       "    }\n",
       "\n",
       "    .dataframe tbody tr th {\n",
       "        vertical-align: top;\n",
       "    }\n",
       "\n",
       "    .dataframe thead th {\n",
       "        text-align: right;\n",
       "    }\n",
       "</style>\n",
       "<table border=\"1\" class=\"dataframe\">\n",
       "  <thead>\n",
       "    <tr style=\"text-align: right;\">\n",
       "      <th></th>\n",
       "      <th>student</th>\n",
       "      <th>marks</th>\n",
       "    </tr>\n",
       "  </thead>\n",
       "  <tbody>\n",
       "    <tr>\n",
       "      <th>0</th>\n",
       "      <td>pooran</td>\n",
       "      <td>92</td>\n",
       "    </tr>\n",
       "    <tr>\n",
       "      <th>1</th>\n",
       "      <td>arun</td>\n",
       "      <td>94</td>\n",
       "    </tr>\n",
       "    <tr>\n",
       "      <th>2</th>\n",
       "      <td>sohiab</td>\n",
       "      <td>94</td>\n",
       "    </tr>\n",
       "  </tbody>\n",
       "</table>\n",
       "</div>"
      ],
      "text/plain": [
       "  student  marks\n",
       "0  pooran     92\n",
       "1    arun     94\n",
       "2  sohiab     94"
      ]
     },
     "execution_count": 24,
     "metadata": {},
     "output_type": "execute_result"
    }
   ],
   "source": [
    "list_of_class\n",
    "import pandas as pd\n",
    "pd.DataFrame(list_of_class)"
   ]
  },
  {
   "cell_type": "code",
   "execution_count": null,
   "id": "0325367a",
   "metadata": {},
   "outputs": [],
   "source": []
  },
  {
   "cell_type": "code",
   "execution_count": 3,
   "id": "75b5523f",
   "metadata": {},
   "outputs": [
    {
     "data": {
      "text/plain": [
       "['pooran', 'arun', 'sohiab']"
      ]
     },
     "execution_count": 3,
     "metadata": {},
     "output_type": "execute_result"
    }
   ],
   "source": [
    "list_of_class[\"student\"]"
   ]
  },
  {
   "cell_type": "code",
   "execution_count": 4,
   "id": "545ffa4b",
   "metadata": {},
   "outputs": [
    {
     "data": {
      "text/plain": [
       "[92, 94, 94]"
      ]
     },
     "execution_count": 4,
     "metadata": {},
     "output_type": "execute_result"
    }
   ],
   "source": [
    "list_of_class['marks']"
   ]
  },
  {
   "cell_type": "code",
   "execution_count": 5,
   "id": "627dd667",
   "metadata": {},
   "outputs": [
    {
     "data": {
      "text/plain": [
       "'sohiab'"
      ]
     },
     "execution_count": 5,
     "metadata": {},
     "output_type": "execute_result"
    }
   ],
   "source": [
    "list_of_class['student'][2]"
   ]
  },
  {
   "cell_type": "code",
   "execution_count": 6,
   "id": "1fae2fc9",
   "metadata": {},
   "outputs": [
    {
     "data": {
      "text/plain": [
       "94"
      ]
     },
     "execution_count": 6,
     "metadata": {},
     "output_type": "execute_result"
    }
   ],
   "source": [
    "list_of_class['marks'][2]"
   ]
  },
  {
   "cell_type": "code",
   "execution_count": null,
   "id": "165e1628",
   "metadata": {},
   "outputs": [],
   "source": [
    "list_of_class['marks'][2]"
   ]
  },
  {
   "cell_type": "code",
   "execution_count": 7,
   "id": "65035a0c",
   "metadata": {},
   "outputs": [
    {
     "data": {
      "text/plain": [
       "[94]"
      ]
     },
     "execution_count": 7,
     "metadata": {},
     "output_type": "execute_result"
    }
   ],
   "source": [
    "list_of_class['marks'][-2:2]"
   ]
  },
  {
   "cell_type": "markdown",
   "id": "fd0dca52",
   "metadata": {},
   "source": [
    "# dictionary in list"
   ]
  },
  {
   "cell_type": "code",
   "execution_count": 9,
   "id": "0e881a56",
   "metadata": {},
   "outputs": [],
   "source": [
    "list_of_class=[{\"student\":[\"pooran\", \"arun\",\"sohiab\"]},{ \"marks\":[92,94,94]}]"
   ]
  },
  {
   "cell_type": "code",
   "execution_count": 10,
   "id": "0c4596f8",
   "metadata": {},
   "outputs": [
    {
     "data": {
      "text/plain": [
       "[{'student': ['pooran', 'arun', 'sohiab']}, {'marks': [92, 94, 94]}]"
      ]
     },
     "execution_count": 10,
     "metadata": {},
     "output_type": "execute_result"
    }
   ],
   "source": [
    "list_of_class\n"
   ]
  },
  {
   "cell_type": "code",
   "execution_count": 11,
   "id": "857de88a",
   "metadata": {},
   "outputs": [
    {
     "data": {
      "text/plain": [
       "'sohiab'"
      ]
     },
     "execution_count": 11,
     "metadata": {},
     "output_type": "execute_result"
    }
   ],
   "source": [
    "list_of_class[0][\"student\"][2]"
   ]
  },
  {
   "cell_type": "code",
   "execution_count": null,
   "id": "ead2941e",
   "metadata": {},
   "outputs": [],
   "source": []
  },
  {
   "cell_type": "markdown",
   "id": "37a87f3d",
   "metadata": {},
   "source": [
    "# dictionar in dictionary"
   ]
  },
  {
   "cell_type": "code",
   "execution_count": 12,
   "id": "7fc0435e",
   "metadata": {},
   "outputs": [],
   "source": [
    "dict_in_dic={\n",
    "    'dict1':{\"profit\":[23,45,6,7]},\n",
    "    'dict2':{\"cost\":[230,34,56,67]}\n",
    "}"
   ]
  },
  {
   "cell_type": "code",
   "execution_count": 18,
   "id": "6540ddcc",
   "metadata": {},
   "outputs": [
    {
     "ename": "AttributeError",
     "evalue": "module 'pandas' has no attribute 'DataFram'",
     "output_type": "error",
     "traceback": [
      "\u001b[1;31m---------------------------------------------------------------------------\u001b[0m",
      "\u001b[1;31mAttributeError\u001b[0m                            Traceback (most recent call last)",
      "\u001b[1;32mC:\\Users\\LAB02R~1\\AppData\\Local\\Temp/ipykernel_2992/251373947.py\u001b[0m in \u001b[0;36m<module>\u001b[1;34m\u001b[0m\n\u001b[0;32m      1\u001b[0m \u001b[0mdict_in_dic\u001b[0m\u001b[1;33m\u001b[0m\u001b[1;33m\u001b[0m\u001b[0m\n\u001b[0;32m      2\u001b[0m \u001b[1;32mimport\u001b[0m \u001b[0mpandas\u001b[0m \u001b[1;32mas\u001b[0m \u001b[0mpd\u001b[0m\u001b[1;33m\u001b[0m\u001b[1;33m\u001b[0m\u001b[0m\n\u001b[1;32m----> 3\u001b[1;33m \u001b[0mpd\u001b[0m\u001b[1;33m.\u001b[0m\u001b[0mDataFram\u001b[0m\u001b[1;33m(\u001b[0m\u001b[0mdict_in_dic\u001b[0m\u001b[1;33m)\u001b[0m\u001b[1;33m\u001b[0m\u001b[1;33m\u001b[0m\u001b[0m\n\u001b[0m",
      "\u001b[1;32mC:\\ProgramData\\Anaconda3\\lib\\site-packages\\pandas\\__init__.py\u001b[0m in \u001b[0;36m__getattr__\u001b[1;34m(name)\u001b[0m\n\u001b[0;32m    242\u001b[0m         \u001b[1;32mreturn\u001b[0m \u001b[0m_SparseArray\u001b[0m\u001b[1;33m\u001b[0m\u001b[1;33m\u001b[0m\u001b[0m\n\u001b[0;32m    243\u001b[0m \u001b[1;33m\u001b[0m\u001b[0m\n\u001b[1;32m--> 244\u001b[1;33m     \u001b[1;32mraise\u001b[0m \u001b[0mAttributeError\u001b[0m\u001b[1;33m(\u001b[0m\u001b[1;34mf\"module 'pandas' has no attribute '{name}'\"\u001b[0m\u001b[1;33m)\u001b[0m\u001b[1;33m\u001b[0m\u001b[1;33m\u001b[0m\u001b[0m\n\u001b[0m\u001b[0;32m    245\u001b[0m \u001b[1;33m\u001b[0m\u001b[0m\n\u001b[0;32m    246\u001b[0m \u001b[1;33m\u001b[0m\u001b[0m\n",
      "\u001b[1;31mAttributeError\u001b[0m: module 'pandas' has no attribute 'DataFram'"
     ]
    }
   ],
   "source": [
    "dict_in_dic\n"
   ]
  },
  {
   "cell_type": "code",
   "execution_count": 20,
   "id": "6540338b",
   "metadata": {},
   "outputs": [],
   "source": [
    "import pandas as pd"
   ]
  },
  {
   "cell_type": "code",
   "execution_count": 22,
   "id": "0054b5e6",
   "metadata": {},
   "outputs": [
    {
     "data": {
      "text/html": [
       "<div>\n",
       "<style scoped>\n",
       "    .dataframe tbody tr th:only-of-type {\n",
       "        vertical-align: middle;\n",
       "    }\n",
       "\n",
       "    .dataframe tbody tr th {\n",
       "        vertical-align: top;\n",
       "    }\n",
       "\n",
       "    .dataframe thead th {\n",
       "        text-align: right;\n",
       "    }\n",
       "</style>\n",
       "<table border=\"1\" class=\"dataframe\">\n",
       "  <thead>\n",
       "    <tr style=\"text-align: right;\">\n",
       "      <th></th>\n",
       "      <th>dict1</th>\n",
       "      <th>dict2</th>\n",
       "    </tr>\n",
       "  </thead>\n",
       "  <tbody>\n",
       "    <tr>\n",
       "      <th>profit</th>\n",
       "      <td>[23, 45, 6, 7]</td>\n",
       "      <td>NaN</td>\n",
       "    </tr>\n",
       "    <tr>\n",
       "      <th>cost</th>\n",
       "      <td>NaN</td>\n",
       "      <td>[230, 34, 56, 67]</td>\n",
       "    </tr>\n",
       "  </tbody>\n",
       "</table>\n",
       "</div>"
      ],
      "text/plain": [
       "                 dict1              dict2\n",
       "profit  [23, 45, 6, 7]                NaN\n",
       "cost               NaN  [230, 34, 56, 67]"
      ]
     },
     "execution_count": 22,
     "metadata": {},
     "output_type": "execute_result"
    }
   ],
   "source": [
    "import pandas as pd\n",
    "pd.DataFrame(dict_in_dic)"
   ]
  },
  {
   "cell_type": "code",
   "execution_count": null,
   "id": "845f51a5",
   "metadata": {},
   "outputs": [],
   "source": []
  },
  {
   "cell_type": "code",
   "execution_count": null,
   "id": "e589aeef",
   "metadata": {},
   "outputs": [],
   "source": []
  },
  {
   "cell_type": "code",
   "execution_count": null,
   "id": "e72d2df7",
   "metadata": {},
   "outputs": [],
   "source": []
  },
  {
   "cell_type": "code",
   "execution_count": 16,
   "id": "d7705601",
   "metadata": {},
   "outputs": [
    {
     "data": {
      "text/plain": [
       "{'profit': [23, 45, 6, 7]}"
      ]
     },
     "execution_count": 16,
     "metadata": {},
     "output_type": "execute_result"
    }
   ],
   "source": [
    "dict_in_dic['dict1']"
   ]
  },
  {
   "cell_type": "code",
   "execution_count": 17,
   "id": "537d912e",
   "metadata": {},
   "outputs": [
    {
     "data": {
      "text/plain": [
       "[45, 6]"
      ]
     },
     "execution_count": 17,
     "metadata": {},
     "output_type": "execute_result"
    }
   ],
   "source": [
    "dict_in_dic['dict1']['profit'][1:3]"
   ]
  },
  {
   "cell_type": "code",
   "execution_count": null,
   "id": "9239484f",
   "metadata": {},
   "outputs": [],
   "source": []
  },
  {
   "cell_type": "code",
   "execution_count": 25,
   "id": "c8a2148a",
   "metadata": {},
   "outputs": [
    {
     "name": "stdout",
     "output_type": "stream",
     "text": [
      "<class 'float'>\n"
     ]
    }
   ],
   "source": [
    "print(type(1/2))"
   ]
  },
  {
   "cell_type": "code",
   "execution_count": 26,
   "id": "7029a597",
   "metadata": {},
   "outputs": [
    {
     "name": "stdout",
     "output_type": "stream",
     "text": [
      "['python']\n"
     ]
    }
   ],
   "source": [
    "lan=[\"python\"]\n",
    "print(lan[-6:5])"
   ]
  },
  {
   "cell_type": "code",
   "execution_count": null,
   "id": "0234c578",
   "metadata": {},
   "outputs": [],
   "source": []
  },
  {
   "cell_type": "code",
   "execution_count": null,
   "id": "295acd5b",
   "metadata": {},
   "outputs": [],
   "source": []
  }
 ],
 "metadata": {
  "kernelspec": {
   "display_name": "Python 3 (ipykernel)",
   "language": "python",
   "name": "python3"
  },
  "language_info": {
   "codemirror_mode": {
    "name": "ipython",
    "version": 3
   },
   "file_extension": ".py",
   "mimetype": "text/x-python",
   "name": "python",
   "nbconvert_exporter": "python",
   "pygments_lexer": "ipython3",
   "version": "3.9.7"
  }
 },
 "nbformat": 4,
 "nbformat_minor": 5
}
