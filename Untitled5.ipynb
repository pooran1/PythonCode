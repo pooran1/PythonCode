{
 "cells": [
  {
   "cell_type": "code",
   "execution_count": 1,
   "id": "c19dd6ca",
   "metadata": {},
   "outputs": [],
   "source": [
    "class Battery():\n",
    "    def __init__(self,manuf, cells,amp):\n",
    "        self.manuf =manuf\n",
    "        self.cells =cells\n",
    "        self.amp =amp\n",
    "        \n",
    "    def outPut(self):\n",
    "        print(f\"{self.amp}\")\n",
    "    \n",
    "    def describeBattery(self):\n",
    "        print(f\"\"\"\n",
    "        Manufacturer: {self.manuf}\n",
    "        Number of Cells: {self.cells}\n",
    "        \"\"\")\n",
    "\n",
    "\n"
   ]
  },
  {
   "cell_type": "code",
   "execution_count": 14,
   "id": "396c2c55",
   "metadata": {},
   "outputs": [],
   "source": [
    "class Tyre():\n",
    "    def __init__(self,manuf,color:\"Black\" ,size):\n",
    "        self.manuf =manuf\n",
    "        self.color =color\n",
    "        self.size=size\n",
    "        \n",
    "    def run_forward(self):\n",
    "        print(f\"{self.amp} move forward\")\n",
    "    def run_backward(self):\n",
    "        print(f\"{self.amp} move backward\")\n",
    "    \n",
    "    def describeTyer(self):\n",
    "        print(f\"\"\"\n",
    "        Manufacturer: {self.manuf}\n",
    "        Car Color: {self.color}\n",
    "        car Size:{self.size}\n",
    "        \"\"\")\n",
    "\n"
   ]
  },
  {
   "cell_type": "code",
   "execution_count": null,
   "id": "ac6bfb26",
   "metadata": {},
   "outputs": [],
   "source": []
  },
  {
   "cell_type": "code",
   "execution_count": null,
   "id": "b9974efe",
   "metadata": {},
   "outputs": [],
   "source": []
  },
  {
   "cell_type": "code",
   "execution_count": 3,
   "id": "2afd97ac",
   "metadata": {},
   "outputs": [],
   "source": [
    "tyre1=Tyre(\"tiger\", \"gray\", \"12\")"
   ]
  },
  {
   "cell_type": "code",
   "execution_count": 4,
   "id": "ef1d1c6f",
   "metadata": {},
   "outputs": [
    {
     "data": {
      "text/plain": [
       "'gray'"
      ]
     },
     "execution_count": 4,
     "metadata": {},
     "output_type": "execute_result"
    }
   ],
   "source": [
    "tyre1.color\n"
   ]
  },
  {
   "cell_type": "code",
   "execution_count": 12,
   "id": "252f2983",
   "metadata": {},
   "outputs": [
    {
     "ename": "TypeError",
     "evalue": "__init__() missing 1 required positional argument: 'size'",
     "output_type": "error",
     "traceback": [
      "\u001b[1;31m---------------------------------------------------------------------------\u001b[0m",
      "\u001b[1;31mTypeError\u001b[0m                                 Traceback (most recent call last)",
      "\u001b[1;32mC:\\Users\\LAB02R~1\\AppData\\Local\\Temp/ipykernel_1200/534570997.py\u001b[0m in \u001b[0;36m<module>\u001b[1;34m\u001b[0m\n\u001b[1;32m----> 1\u001b[1;33m \u001b[0mtyer2\u001b[0m\u001b[1;33m=\u001b[0m\u001b[0mTyre\u001b[0m\u001b[1;33m(\u001b[0m\u001b[1;34m\"servo\"\u001b[0m\u001b[1;33m,\u001b[0m\u001b[1;36m12\u001b[0m\u001b[1;33m)\u001b[0m\u001b[1;33m\u001b[0m\u001b[1;33m\u001b[0m\u001b[0m\n\u001b[0m",
      "\u001b[1;31mTypeError\u001b[0m: __init__() missing 1 required positional argument: 'size'"
     ]
    }
   ],
   "source": [
    "tyer2=Tyre(\"servo\",12)"
   ]
  },
  {
   "cell_type": "code",
   "execution_count": null,
   "id": "6c713590",
   "metadata": {},
   "outputs": [],
   "source": []
  },
  {
   "cell_type": "code",
   "execution_count": null,
   "id": "e8b3276b",
   "metadata": {},
   "outputs": [],
   "source": []
  },
  {
   "cell_type": "code",
   "execution_count": 5,
   "id": "12013847",
   "metadata": {},
   "outputs": [],
   "source": [
    "\n",
    "\n",
    "\n",
    "\n",
    "class Car():\n",
    " \n",
    "    def __init__(self, make, model, year):\n",
    "        self.make = make\n",
    "        self.model = model\n",
    "        self.year = year\n",
    "        self.odometer_reading = 0\n",
    "\n",
    "    def get_descriptive_name(self):\n",
    "        long_name = str(self.year) + ' ' + self.make + ' ' + self.model\n",
    "        return long_name.title()\n",
    "\n",
    "    def read_odometer(self):\n",
    "        print(\"This car has \" + str(self.odometer_reading) + \" miles on it.\")\n",
    "\n",
    "    def update_odometer(self, mileage):\n",
    "        if mileage >= self.odometer_reading:\n",
    "            self.odometer_reading = mileage\n",
    "        else:\n",
    "            print(\"You can't roll back an odometer!\")\n",
    "\n",
    "    def increment_odometer(self, miles):\n",
    "        self.odometer_reading += miles\n",
    "    \n",
    "    def fill_gas_tank(self):\n",
    "        print(\"Gas tank is being filled\")"
   ]
  },
  {
   "cell_type": "code",
   "execution_count": null,
   "id": "56adfb4c",
   "metadata": {},
   "outputs": [],
   "source": []
  },
  {
   "cell_type": "code",
   "execution_count": 6,
   "id": "5526a1bb",
   "metadata": {},
   "outputs": [],
   "source": [
    "class ElectricCar(Car):\n",
    "    def __init__(self, make, model, year):\n",
    " \n",
    "        super().__init__(make, model, year)\n",
    "        #super()takes you to the parent class initializer\n",
    "        self.battery = Battery(\"Exide\",27,200)\n",
    "        self.tyer=Tyre(\"service\",\"black_gray\",\"16\")\n",
    "        \n",
    "        \n",
    "    def describe_battery(self):\n",
    "         print(\"This car has a \" + str(self.battery_size) + \"-kWh battery.\")\n",
    "    \n",
    "    def fill_gas_tank(self):\n",
    "        print(\"This car doesn't need a gas tank!\")"
   ]
  },
  {
   "cell_type": "code",
   "execution_count": null,
   "id": "3bdaf415",
   "metadata": {},
   "outputs": [],
   "source": []
  },
  {
   "cell_type": "code",
   "execution_count": 7,
   "id": "9d37ebfe",
   "metadata": {},
   "outputs": [],
   "source": [
    "c1=ElectricCar(\"tesla\",\"200220\",2022)"
   ]
  },
  {
   "cell_type": "code",
   "execution_count": null,
   "id": "2f8ff566",
   "metadata": {},
   "outputs": [],
   "source": []
  },
  {
   "cell_type": "code",
   "execution_count": 8,
   "id": "9539bb79",
   "metadata": {},
   "outputs": [
    {
     "name": "stdout",
     "output_type": "stream",
     "text": [
      "\n",
      "        Manufacturer: Exide\n",
      "        Number of Cells: 27\n",
      "        \n"
     ]
    }
   ],
   "source": [
    "c1.battery.describeBattery()\n",
    "\n"
   ]
  },
  {
   "cell_type": "code",
   "execution_count": 9,
   "id": "73a7043a",
   "metadata": {},
   "outputs": [
    {
     "data": {
      "text/plain": [
       "'black_gray'"
      ]
     },
     "execution_count": 9,
     "metadata": {},
     "output_type": "execute_result"
    }
   ],
   "source": [
    "c1.tyer.color"
   ]
  },
  {
   "cell_type": "code",
   "execution_count": 11,
   "id": "c95f4119",
   "metadata": {},
   "outputs": [
    {
     "name": "stdout",
     "output_type": "stream",
     "text": [
      "\n",
      "        Manufacturer: service\n",
      "        Car Color: black_gray\n",
      "        car Size:16\n",
      "        \n"
     ]
    }
   ],
   "source": [
    "c1.tyer.describeTyer()"
   ]
  },
  {
   "cell_type": "code",
   "execution_count": null,
   "id": "b35ab56b",
   "metadata": {},
   "outputs": [],
   "source": []
  },
  {
   "cell_type": "code",
   "execution_count": null,
   "id": "8ba9f504",
   "metadata": {},
   "outputs": [],
   "source": []
  },
  {
   "cell_type": "code",
   "execution_count": null,
   "id": "efdbc17d",
   "metadata": {},
   "outputs": [],
   "source": []
  },
  {
   "cell_type": "code",
   "execution_count": null,
   "id": "291812d9",
   "metadata": {},
   "outputs": [],
   "source": []
  },
  {
   "cell_type": "code",
   "execution_count": null,
   "id": "a24ed69d",
   "metadata": {},
   "outputs": [],
   "source": []
  },
  {
   "cell_type": "code",
   "execution_count": null,
   "id": "2bf59298",
   "metadata": {},
   "outputs": [],
   "source": []
  }
 ],
 "metadata": {
  "kernelspec": {
   "display_name": "Python 3 (ipykernel)",
   "language": "python",
   "name": "python3"
  },
  "language_info": {
   "codemirror_mode": {
    "name": "ipython",
    "version": 3
   },
   "file_extension": ".py",
   "mimetype": "text/x-python",
   "name": "python",
   "nbconvert_exporter": "python",
   "pygments_lexer": "ipython3",
   "version": "3.9.7"
  }
 },
 "nbformat": 4,
 "nbformat_minor": 5
}
