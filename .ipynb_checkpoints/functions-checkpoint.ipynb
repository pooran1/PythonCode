{
 "cells": [
  {
   "cell_type": "markdown",
   "id": "cec2d938",
   "metadata": {},
   "source": [
    "# functions"
   ]
  },
  {
   "cell_type": "raw",
   "id": "576ee894",
   "metadata": {},
   "source": [
    "block\n",
    "pise of code \n",
    "othe place use "
   ]
  },
  {
   "cell_type": "raw",
   "id": "22e364bb",
   "metadata": {},
   "source": [
    "# bultin function(print(),)\n",
    "user_define (apna ap bena he )"
   ]
  },
  {
   "cell_type": "code",
   "execution_count": 3,
   "id": "13652389",
   "metadata": {},
   "outputs": [],
   "source": [
    "#import modeule \n",
    "import math"
   ]
  },
  {
   "cell_type": "code",
   "execution_count": null,
   "id": "8886c856",
   "metadata": {},
   "outputs": [],
   "source": [
    "math."
   ]
  },
  {
   "cell_type": "code",
   "execution_count": 4,
   "id": "bab4e3d3",
   "metadata": {},
   "outputs": [],
   "source": [
    "#functions definations \n",
    "#def\n",
    "\n",
    "def mean(arr):\n",
    "    total=0\n",
    "    for v in arr:\n",
    "        total+=v\n",
    "    return total/len(arr)"
   ]
  },
  {
   "cell_type": "code",
   "execution_count": 5,
   "id": "bdee8e46",
   "metadata": {},
   "outputs": [
    {
     "data": {
      "text/plain": [
       "2.8"
      ]
     },
     "execution_count": 5,
     "metadata": {},
     "output_type": "execute_result"
    }
   ],
   "source": [
    "#funcation call\n",
    "mean([1,2,3,4,4])"
   ]
  },
  {
   "cell_type": "code",
   "execution_count": 6,
   "id": "971aa16c",
   "metadata": {},
   "outputs": [
    {
     "name": "stdout",
     "output_type": "stream",
     "text": [
      "hello\n"
     ]
    }
   ],
   "source": [
    "#defination \n",
    "#less perameter \n",
    "def say_hel():\n",
    "    print(\"hello\")\n",
    "\n",
    "#calling\n",
    "#less arrgument\n",
    "say_hel()"
   ]
  },
  {
   "cell_type": "code",
   "execution_count": 7,
   "id": "1c6ee3f9",
   "metadata": {},
   "outputs": [],
   "source": [
    "def man_bultin(arr):\n",
    "    total=sum(arr)\n",
    "    return total/len(arr)"
   ]
  },
  {
   "cell_type": "code",
   "execution_count": 8,
   "id": "11b52cca",
   "metadata": {},
   "outputs": [
    {
     "data": {
      "text/plain": [
       "2.8"
      ]
     },
     "execution_count": 8,
     "metadata": {},
     "output_type": "execute_result"
    }
   ],
   "source": [
    "#funcation call\n",
    "man_bultin([1,2,3,4,4])"
   ]
  },
  {
   "cell_type": "code",
   "execution_count": 10,
   "id": "55378115",
   "metadata": {},
   "outputs": [
    {
     "name": "stdout",
     "output_type": "stream",
     "text": [
      "hello pooran\n"
     ]
    }
   ],
   "source": [
    "#defination \n",
    "#single perameter (permetrize)\n",
    "def say_slam(name):\n",
    "    print(f\"hello {name}\")\n",
    "\n",
    "#calling\n",
    "#single arrgument\n",
    "say_slam(\"pooran\")"
   ]
  },
  {
   "cell_type": "code",
   "execution_count": 11,
   "id": "4d4fc275",
   "metadata": {},
   "outputs": [
    {
     "name": "stdout",
     "output_type": "stream",
     "text": [
      "heloo pooran \n"
     ]
    }
   ],
   "source": [
    "#defination \n",
    "#SINGEL perameter \n",
    "def lower_text(para):\n",
    "    print(para.lower())\n",
    "\n",
    "#calling\n",
    "# arrgument\n",
    "lower_text(\"HELOO POORAN \")"
   ]
  },
  {
   "cell_type": "code",
   "execution_count": 13,
   "id": "7121eb2d",
   "metadata": {},
   "outputs": [
    {
     "name": "stdout",
     "output_type": "stream",
     "text": [
      "15\n"
     ]
    }
   ],
   "source": [
    "#CHAR\n",
    "def count_char(char):\n",
    "    print(len(char))\n",
    "    \n",
    "count_char(\"pooran parshant\")"
   ]
  },
  {
   "cell_type": "code",
   "execution_count": null,
   "id": "e2570fdd",
   "metadata": {},
   "outputs": [],
   "source": []
  },
  {
   "cell_type": "code",
   "execution_count": null,
   "id": "671ecb86",
   "metadata": {},
   "outputs": [],
   "source": []
  },
  {
   "cell_type": "code",
   "execution_count": 18,
   "id": "6e458489",
   "metadata": {},
   "outputs": [
    {
     "name": "stdout",
     "output_type": "stream",
     "text": [
      " totale number of world : 5\n"
     ]
    }
   ],
   "source": [
    "#WORD\n",
    "def word_count(words):\n",
    "    total_words=words.split()\n",
    " #   print(total_words)\n",
    "    print(f\" totale number of world : {len(total_words)}\")\n",
    "    \n",
    "word_count(\"pooran parshant is good boy\")"
   ]
  },
  {
   "cell_type": "code",
   "execution_count": null,
   "id": "feccdffe",
   "metadata": {},
   "outputs": [],
   "source": []
  },
  {
   "cell_type": "code",
   "execution_count": 25,
   "id": "af98743d",
   "metadata": {},
   "outputs": [
    {
     "name": "stdout",
     "output_type": "stream",
     "text": [
      " totale number of world : 29\n"
     ]
    }
   ],
   "source": [
    "#WORD\n",
    "def word_count(words):\n",
    "    total_words=words.split()\n",
    " #   print(total_words)\n",
    "    print(f\" totale number of world : {len(total_words)}\")\n",
    "    \n",
    "word_count(\"pooran parshant is good boy\")"
   ]
  },
  {
   "cell_type": "code",
   "execution_count": null,
   "id": "bc4f1cec",
   "metadata": {},
   "outputs": [],
   "source": []
  },
  {
   "cell_type": "code",
   "execution_count": 11,
   "id": "7c233722",
   "metadata": {},
   "outputs": [],
   "source": [
    "def name_length(words):\n",
    "    return [a if len(a.split())<10 else a.split()  for a in words]"
   ]
  },
  {
   "cell_type": "code",
   "execution_count": null,
   "id": "9c09be49",
   "metadata": {},
   "outputs": [],
   "source": []
  },
  {
   "cell_type": "code",
   "execution_count": 12,
   "id": "37f88ae5",
   "metadata": {},
   "outputs": [
    {
     "data": {
      "text/plain": [
       "['pooran', 'pooran parshant']"
      ]
     },
     "execution_count": 12,
     "metadata": {},
     "output_type": "execute_result"
    }
   ],
   "source": [
    "name_length(['pooran','pooran parshant'])"
   ]
  },
  {
   "cell_type": "code",
   "execution_count": null,
   "id": "de140a08",
   "metadata": {},
   "outputs": [],
   "source": []
  },
  {
   "cell_type": "code",
   "execution_count": null,
   "id": "ce194e12",
   "metadata": {},
   "outputs": [],
   "source": []
  },
  {
   "cell_type": "code",
   "execution_count": null,
   "id": "20e6f603",
   "metadata": {},
   "outputs": [],
   "source": []
  },
  {
   "cell_type": "code",
   "execution_count": null,
   "id": "4bf3fd09",
   "metadata": {},
   "outputs": [],
   "source": []
  },
  {
   "cell_type": "code",
   "execution_count": 28,
   "id": "9ef95744",
   "metadata": {},
   "outputs": [
    {
     "name": "stdout",
     "output_type": "stream",
     "text": [
      " totale number of sentace : 3\n"
     ]
    }
   ],
   "source": [
    "#SENTANCE \n",
    "def sentance_count(sentance):\n",
    "    total_sen=sentance.split('. ')\n",
    " #   total_sen=sentance.split('.')-1\n",
    " #   print(total_words)\n",
    "    print(f\" totale number of sentace : {len(total_sen)}\")\n",
    "    \n",
    "    \n",
    "sentance_count(\"pooran parshant is good boy. This Study AI and Datasciens in Saylani. yes.\")"
   ]
  },
  {
   "cell_type": "code",
   "execution_count": null,
   "id": "1df92546",
   "metadata": {},
   "outputs": [],
   "source": []
  },
  {
   "cell_type": "code",
   "execution_count": null,
   "id": "51ebdf6e",
   "metadata": {},
   "outputs": [],
   "source": [
    "#CHAR\n",
    "def count_char(char):\n",
    "    charCount=0\n",
    "    for ch in char:\n",
    "        if ch.isalpha():\n",
    "            \n",
    "    \n",
    "count_char\"pooran parshant is good boy. This Study AI and Datasciens in Saylani. yes.\")"
   ]
  },
  {
   "cell_type": "code",
   "execution_count": null,
   "id": "b5c2ff6c",
   "metadata": {},
   "outputs": [],
   "source": []
  },
  {
   "cell_type": "code",
   "execution_count": 30,
   "id": "a65ba107",
   "metadata": {},
   "outputs": [
    {
     "data": {
      "text/plain": [
       "False"
      ]
     },
     "execution_count": 30,
     "metadata": {},
     "output_type": "execute_result"
    }
   ],
   "source": [
    "\"pk.\".is"
   ]
  },
  {
   "cell_type": "code",
   "execution_count": null,
   "id": "8033134d",
   "metadata": {},
   "outputs": [],
   "source": []
  },
  {
   "cell_type": "code",
   "execution_count": null,
   "id": "415782a8",
   "metadata": {},
   "outputs": [],
   "source": []
  },
  {
   "cell_type": "code",
   "execution_count": null,
   "id": "9d4f9bcf",
   "metadata": {},
   "outputs": [],
   "source": []
  },
  {
   "cell_type": "code",
   "execution_count": null,
   "id": "fb710fe7",
   "metadata": {},
   "outputs": [],
   "source": []
  },
  {
   "cell_type": "code",
   "execution_count": null,
   "id": "c571d8a6",
   "metadata": {},
   "outputs": [],
   "source": []
  }
 ],
 "metadata": {
  "kernelspec": {
   "display_name": "Python 3 (ipykernel)",
   "language": "python",
   "name": "python3"
  },
  "language_info": {
   "codemirror_mode": {
    "name": "ipython",
    "version": 3
   },
   "file_extension": ".py",
   "mimetype": "text/x-python",
   "name": "python",
   "nbconvert_exporter": "python",
   "pygments_lexer": "ipython3",
   "version": "3.9.7"
  }
 },
 "nbformat": 4,
 "nbformat_minor": 5
}
