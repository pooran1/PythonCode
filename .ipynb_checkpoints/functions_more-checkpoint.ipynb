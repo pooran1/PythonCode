{
 "cells": [
  {
   "cell_type": "markdown",
   "id": "eebdd3ed",
   "metadata": {},
   "source": [
    "# function 3"
   ]
  },
  {
   "cell_type": "code",
   "execution_count": null,
   "id": "43256777",
   "metadata": {},
   "outputs": [],
   "source": []
  },
  {
   "cell_type": "code",
   "execution_count": 1,
   "id": "952fe8bb",
   "metadata": {},
   "outputs": [],
   "source": [
    "def fun(arr,task):\n",
    "    #sum, mult, max, min, even, odd\n",
    "    if task == \"sum\":\n",
    "        return sum(arr)\n",
    "    elif task==\"mult\":\n",
    "        res=1\n",
    "        for num in arr:\n",
    "            res*=num\n",
    "        return res\n",
    "    elif task==\"max\":\n",
    "        return max(arr)\n",
    "    elif task==\"min\":\n",
    "        return min(arr)\n",
    "    elif task==\"even\":\n",
    "        even=[]\n",
    "        for num in arr:\n",
    "            if num%2==0:\n",
    "                even.append(num)\n",
    "           # return even\n",
    "        return even\n",
    "    elif task==\"odd\":\n",
    "        odd=[]\n",
    "        for num in arr:\n",
    "            if num%2!=0:\n",
    "                odd.append(num)\n",
    "            #return odd\n",
    "        return odd\n",
    "    else:\n",
    "        return arr\n",
    "        "
   ]
  },
  {
   "cell_type": "code",
   "execution_count": null,
   "id": "921aa045",
   "metadata": {},
   "outputs": [],
   "source": []
  },
  {
   "cell_type": "code",
   "execution_count": null,
   "id": "5f88d590",
   "metadata": {},
   "outputs": [],
   "source": []
  },
  {
   "cell_type": "code",
   "execution_count": 2,
   "id": "25b44f3f",
   "metadata": {},
   "outputs": [],
   "source": [
    "print(fun([3,4,5,6,],'sum'))"
   ]
  },
  {
   "cell_type": "code",
   "execution_count": 3,
   "id": "31f8a164",
   "metadata": {},
   "outputs": [],
   "source": [
    "print(fun([3,4,5,6,],'mult'))"
   ]
  },
  {
   "cell_type": "code",
   "execution_count": 4,
   "id": "98f8be58",
   "metadata": {},
   "outputs": [],
   "source": [
    "print(fun([3,4,5,6,],'max'))"
   ]
  },
  {
   "cell_type": "code",
   "execution_count": 5,
   "id": "defc6602",
   "metadata": {},
   "outputs": [],
   "source": [
    "print(fun([3,4,5,6,],'min'))"
   ]
  },
  {
   "cell_type": "code",
   "execution_count": 6,
   "id": "60cd46d5",
   "metadata": {},
   "outputs": [],
   "source": [
    "print(fun([3,4,5,6,],'even'))"
   ]
  },
  {
   "cell_type": "code",
   "execution_count": 7,
   "id": "7c1fe441",
   "metadata": {},
   "outputs": [],
   "source": [
    "print(fun([3,4,5,6,],'odd'))"
   ]
  },
  {
   "cell_type": "code",
   "execution_count": null,
   "id": "4e2ba504",
   "metadata": {},
   "outputs": [],
   "source": []
  },
  {
   "cell_type": "code",
   "execution_count": null,
   "id": "fbb93677",
   "metadata": {},
   "outputs": [],
   "source": []
  },
  {
   "cell_type": "markdown",
   "id": "bd3d5ed2",
   "metadata": {},
   "source": [
    "# default arguments"
   ]
  },
  {
   "cell_type": "code",
   "execution_count": null,
   "id": "0e27ecf6",
   "metadata": {},
   "outputs": [],
   "source": []
  },
  {
   "cell_type": "code",
   "execution_count": 8,
   "id": "178a52d2",
   "metadata": {},
   "outputs": [],
   "source": [
    "def fun(arr,task=' '):\n",
    "    #sum, mult, max, min, even, odd\n",
    "    if task == \"sum\":\n",
    "        return sum(arr)\n",
    "    elif task==\"mult\":\n",
    "        res=1\n",
    "        for num in arr:\n",
    "            res*=num\n",
    "        return res\n",
    "    elif task==\"max\":\n",
    "        return max(arr)\n",
    "    elif task==\"min\":\n",
    "        return min(arr)\n",
    "    elif task==\"even\":\n",
    "        even=[]\n",
    "        for num in arr:\n",
    "            if num%2==0:\n",
    "                even.append(num)\n",
    "        return even\n",
    "        #return even\n",
    "    elif task==\"odd\":\n",
    "        odd=[]\n",
    "        for num in arr:\n",
    "            if num%2!=0:\n",
    "                odd.append(num)\n",
    "        return odd\n",
    "        #return odd\n",
    "    else:\n",
    "        return arr\n",
    "        "
   ]
  },
  {
   "cell_type": "code",
   "execution_count": null,
   "id": "1b9aa0be",
   "metadata": {},
   "outputs": [],
   "source": []
  },
  {
   "cell_type": "code",
   "execution_count": null,
   "id": "b85d1cf8",
   "metadata": {},
   "outputs": [],
   "source": []
  },
  {
   "cell_type": "code",
   "execution_count": null,
   "id": "1e68ac60",
   "metadata": {},
   "outputs": [],
   "source": []
  },
  {
   "cell_type": "code",
   "execution_count": null,
   "id": "73c991b7",
   "metadata": {},
   "outputs": [],
   "source": []
  },
  {
   "cell_type": "code",
   "execution_count": 9,
   "id": "f969c20b",
   "metadata": {},
   "outputs": [],
   "source": [
    "print(fun([1,2,3,44,4]))"
   ]
  },
  {
   "cell_type": "code",
   "execution_count": null,
   "id": "5882803d",
   "metadata": {},
   "outputs": [],
   "source": []
  },
  {
   "cell_type": "code",
   "execution_count": 10,
   "id": "3530521f",
   "metadata": {},
   "outputs": [],
   "source": [
    "fun([1,2,3,4])"
   ]
  },
  {
   "cell_type": "code",
   "execution_count": null,
   "id": "7ac7b13b",
   "metadata": {},
   "outputs": [],
   "source": []
  },
  {
   "cell_type": "code",
   "execution_count": 11,
   "id": "a5be02c5",
   "metadata": {},
   "outputs": [],
   "source": [
    "def cal(num_1, num_2, task=''):\n",
    "    if task==\"+\":\n",
    "        return num_1+num_2\n",
    "    elif task==\"-\":\n",
    "        return  num_1-num_2\n",
    "    elif task==\"*\":\n",
    "        return  num_1*num_2\n",
    "    elif task==\"/\":\n",
    "        return  num_1/num_2\n",
    "    elif task==\"%\":\n",
    "        return  num_1%num_2\n",
    "    else:\n",
    "        return num_1, num_2"
   ]
  },
  {
   "cell_type": "code",
   "execution_count": 12,
   "id": "14342b3f",
   "metadata": {},
   "outputs": [],
   "source": [
    "cal(5,6,'+')"
   ]
  },
  {
   "cell_type": "code",
   "execution_count": 20,
   "id": "782e6330",
   "metadata": {},
   "outputs": [
    {
     "name": "stdout",
     "output_type": "stream",
     "text": [
      "enter number 1 : 4\n",
      "enter number 2 : 4\n",
      "which you went : \n",
      " a: \"+\" \n",
      " b: \"-\"  \n",
      " c: \"*\" \n",
      " d: \"/\" \n",
      " e: \" %\" \n",
      " +\n"
     ]
    },
    {
     "data": {
      "text/plain": [
       "8"
      ]
     },
     "execution_count": 20,
     "metadata": {},
     "output_type": "execute_result"
    }
   ],
   "source": [
    "num_1=int(input(\"enter number 1 : \"))\n",
    "num_2=int(input(\"enter number 2 : \"))\n",
    "task=(input(\"which you went : \\n a: \\\"+\\\" \\n b: \\\"-\\\"  \\n c: \\\"*\\\" \\n d: \\\"/\\\" \\n e: \\\" %\\\" \\n \"))\n",
    "cal(num_1,num_2,task)"
   ]
  },
  {
   "cell_type": "code",
   "execution_count": null,
   "id": "9bde980d",
   "metadata": {},
   "outputs": [],
   "source": []
  },
  {
   "cell_type": "code",
   "execution_count": null,
   "id": "a34b0582",
   "metadata": {},
   "outputs": [],
   "source": []
  },
  {
   "cell_type": "code",
   "execution_count": null,
   "id": "45659fc7",
   "metadata": {},
   "outputs": [],
   "source": []
  },
  {
   "cell_type": "code",
   "execution_count": null,
   "id": "ba7ef592",
   "metadata": {},
   "outputs": [],
   "source": []
  },
  {
   "cell_type": "markdown",
   "id": "92640987",
   "metadata": {},
   "source": [
    "# data type mandatri"
   ]
  },
  {
   "cell_type": "code",
   "execution_count": null,
   "id": "83d00f5f",
   "metadata": {},
   "outputs": [],
   "source": []
  },
  {
   "cell_type": "code",
   "execution_count": 14,
   "id": "a1829733",
   "metadata": {},
   "outputs": [],
   "source": [
    "def ans(name: str) -> str:\n",
    "    return name"
   ]
  },
  {
   "cell_type": "code",
   "execution_count": 15,
   "id": "0118ac79",
   "metadata": {},
   "outputs": [
    {
     "data": {
      "text/plain": [
       "45"
      ]
     },
     "execution_count": 15,
     "metadata": {},
     "output_type": "execute_result"
    }
   ],
   "source": [
    "ans(45)"
   ]
  },
  {
   "cell_type": "code",
   "execution_count": null,
   "id": "ea18fd30",
   "metadata": {},
   "outputs": [],
   "source": []
  },
  {
   "cell_type": "code",
   "execution_count": null,
   "id": "fbd808f2",
   "metadata": {},
   "outputs": [],
   "source": []
  },
  {
   "cell_type": "markdown",
   "id": "a4e3135c",
   "metadata": {},
   "source": [
    "# keyword Arguments"
   ]
  },
  {
   "cell_type": "code",
   "execution_count": 17,
   "id": "99be77f9",
   "metadata": {},
   "outputs": [],
   "source": [
    "def desriptions(name, age, gender, blood_group):\n",
    "    deis=f\"\"\"\n",
    "    Name is :{name}\n",
    "    age is : {age}\n",
    "    gander is: {gender}\n",
    "    blood_group is: {blood_group}\n",
    "    \"\"\"\n",
    "    print(deis)"
   ]
  },
  {
   "cell_type": "code",
   "execution_count": 18,
   "id": "d0a474d5",
   "metadata": {},
   "outputs": [
    {
     "name": "stdout",
     "output_type": "stream",
     "text": [
      "\n",
      "    Name is :pooran\n",
      "    age is : 21\n",
      "    gander is: m\n",
      "    blood_group is: o+\n",
      "    \n"
     ]
    }
   ],
   "source": [
    "#keyword Argment\n",
    "desriptions(name=\"pooran\", gender=\"m\", age=\"21\", blood_group=\"o+\")"
   ]
  },
  {
   "cell_type": "markdown",
   "id": "dae44b4f",
   "metadata": {},
   "source": [
    "# return in dictionary"
   ]
  },
  {
   "cell_type": "code",
   "execution_count": 21,
   "id": "5b3de886",
   "metadata": {},
   "outputs": [
    {
     "name": "stdout",
     "output_type": "stream",
     "text": [
      "{'first': 'pooran', 'last': 'parshant'}\n"
     ]
    }
   ],
   "source": [
    "def bulid_person(first_name, last_name):\n",
    "    person={\"first\":first_name, 'last':last_name}\n",
    "    return person\n",
    "muiscin= bulid_person(\"pooran\",\"parshant\")\n",
    "print(muiscin)"
   ]
  },
  {
   "cell_type": "code",
   "execution_count": 23,
   "id": "c0646f97",
   "metadata": {},
   "outputs": [
    {
     "name": "stdout",
     "output_type": "stream",
     "text": [
      "pooran\n"
     ]
    }
   ],
   "source": [
    "print(muiscin['first'])"
   ]
  },
  {
   "cell_type": "code",
   "execution_count": null,
   "id": "c2360ab1",
   "metadata": {},
   "outputs": [],
   "source": []
  },
  {
   "cell_type": "code",
   "execution_count": 24,
   "id": "5f846e17",
   "metadata": {},
   "outputs": [
    {
     "name": "stdout",
     "output_type": "stream",
     "text": [
      "{'first': 'pooran', 'last': 'parshant', 'age': 27}\n"
     ]
    }
   ],
   "source": [
    "def bulid_person(first_name, last_name, age=''):\n",
    "    person={\"first\":first_name, 'last':last_name}\n",
    "    if age:\n",
    "        person['age']=age\n",
    "    return person\n",
    "\n",
    "muiscin= bulid_person(\"pooran\",\"parshant\", age=27)\n",
    "print(muiscin)"
   ]
  },
  {
   "cell_type": "code",
   "execution_count": null,
   "id": "d01f0a16",
   "metadata": {},
   "outputs": [],
   "source": []
  },
  {
   "cell_type": "code",
   "execution_count": 25,
   "id": "efcb972e",
   "metadata": {},
   "outputs": [
    {
     "name": "stdout",
     "output_type": "stream",
     "text": [
      "rahual\n",
      "parshant\n",
      "pooran\n",
      "['rahual', 'parshant', 'pooran']\n"
     ]
    }
   ],
   "source": [
    "unprinted=['pooran', 'parshant', 'rahual']\n",
    "comple_print=[]\n",
    "while unprinted:\n",
    "    current_des=unprinted.pop()\n",
    "    print(current_des)\n",
    "    comple_print.append(current_des)\n",
    "print(comple_print)"
   ]
  },
  {
   "cell_type": "code",
   "execution_count": 26,
   "id": "3065c2b4",
   "metadata": {},
   "outputs": [
    {
     "name": "stdout",
     "output_type": "stream",
     "text": [
      "rahual\n",
      "parshant\n",
      "pooran\n"
     ]
    }
   ],
   "source": [
    "for comple_print in comple_print:\n",
    "    print(comple_print)"
   ]
  },
  {
   "cell_type": "code",
   "execution_count": null,
   "id": "63dea6ef",
   "metadata": {},
   "outputs": [],
   "source": []
  },
  {
   "cell_type": "code",
   "execution_count": null,
   "id": "5c9a0272",
   "metadata": {},
   "outputs": [],
   "source": []
  },
  {
   "cell_type": "code",
   "execution_count": null,
   "id": "ec848e81",
   "metadata": {},
   "outputs": [],
   "source": []
  },
  {
   "cell_type": "code",
   "execution_count": null,
   "id": "eea3c001",
   "metadata": {},
   "outputs": [],
   "source": []
  },
  {
   "cell_type": "code",
   "execution_count": null,
   "id": "80305709",
   "metadata": {},
   "outputs": [],
   "source": []
  },
  {
   "cell_type": "code",
   "execution_count": null,
   "id": "3c75b623",
   "metadata": {},
   "outputs": [],
   "source": []
  },
  {
   "cell_type": "code",
   "execution_count": null,
   "id": "4acb4534",
   "metadata": {},
   "outputs": [],
   "source": []
  },
  {
   "cell_type": "code",
   "execution_count": null,
   "id": "b8a59737",
   "metadata": {},
   "outputs": [],
   "source": []
  },
  {
   "cell_type": "code",
   "execution_count": null,
   "id": "39f7ee33",
   "metadata": {},
   "outputs": [],
   "source": []
  },
  {
   "cell_type": "code",
   "execution_count": null,
   "id": "361d11c5",
   "metadata": {},
   "outputs": [],
   "source": []
  },
  {
   "cell_type": "code",
   "execution_count": 16,
   "id": "51961eda",
   "metadata": {},
   "outputs": [
    {
     "ename": "IndentationError",
     "evalue": "expected an indented block (Temp/ipykernel_5728/1815998857.py, line 3)",
     "output_type": "error",
     "traceback": [
      "\u001b[1;36m  File \u001b[1;32m\"C:\\Users\\LAB02R~1\\AppData\\Local\\Temp/ipykernel_5728/1815998857.py\"\u001b[1;36m, line \u001b[1;32m3\u001b[0m\n\u001b[1;33m    \u001b[0m\n\u001b[1;37m    ^\u001b[0m\n\u001b[1;31mIndentationError\u001b[0m\u001b[1;31m:\u001b[0m expected an indented block\n"
     ]
    }
   ],
   "source": [
    "a=[1,3,4,5]\n",
    "for i in a:\n",
    "    "
   ]
  }
 ],
 "metadata": {
  "kernelspec": {
   "display_name": "Python 3 (ipykernel)",
   "language": "python",
   "name": "python3"
  },
  "language_info": {
   "codemirror_mode": {
    "name": "ipython",
    "version": 3
   },
   "file_extension": ".py",
   "mimetype": "text/x-python",
   "name": "python",
   "nbconvert_exporter": "python",
   "pygments_lexer": "ipython3",
   "version": "3.9.7"
  }
 },
 "nbformat": 4,
 "nbformat_minor": 5
}
