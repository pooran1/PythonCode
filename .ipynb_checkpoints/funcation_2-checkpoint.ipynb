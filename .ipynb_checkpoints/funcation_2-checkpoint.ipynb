{
 "cells": [
  {
   "cell_type": "code",
   "execution_count": 1,
   "id": "3f44811f",
   "metadata": {},
   "outputs": [
    {
     "ename": "SyntaxError",
     "evalue": "invalid syntax (Temp/ipykernel_6484/440345521.py, line 1)",
     "output_type": "error",
     "traceback": [
      "\u001b[1;36m  File \u001b[1;32m\"C:\\Users\\LAB02R~1\\AppData\\Local\\Temp/ipykernel_6484/440345521.py\"\u001b[1;36m, line \u001b[1;32m1\u001b[0m\n\u001b[1;33m    golabel varible\u001b[0m\n\u001b[1;37m            ^\u001b[0m\n\u001b[1;31mSyntaxError\u001b[0m\u001b[1;31m:\u001b[0m invalid syntax\n"
     ]
    }
   ],
   "source": [
    "#golabel varible \n",
    "#local varibal "
   ]
  },
  {
   "cell_type": "code",
   "execution_count": 2,
   "id": "28a76713",
   "metadata": {},
   "outputs": [],
   "source": [
    "def square(num):\n",
    "    #local virible\n",
    "    sqr=num*num\n",
    "    \n",
    "    #globle varible\n",
    "    global name\n",
    "    name=\"syalani\"\n",
    "    \n",
    "    "
   ]
  },
  {
   "cell_type": "code",
   "execution_count": 3,
   "id": "cae8c8f8",
   "metadata": {},
   "outputs": [
    {
     "ename": "NameError",
     "evalue": "name 'sqr' is not defined",
     "output_type": "error",
     "traceback": [
      "\u001b[1;31m---------------------------------------------------------------------------\u001b[0m",
      "\u001b[1;31mNameError\u001b[0m                                 Traceback (most recent call last)",
      "\u001b[1;32mC:\\Users\\LAB02R~1\\AppData\\Local\\Temp/ipykernel_6484/2196237943.py\u001b[0m in \u001b[0;36m<module>\u001b[1;34m\u001b[0m\n\u001b[1;32m----> 1\u001b[1;33m \u001b[0mprint\u001b[0m\u001b[1;33m(\u001b[0m\u001b[0msqr\u001b[0m\u001b[1;33m)\u001b[0m\u001b[1;33m\u001b[0m\u001b[1;33m\u001b[0m\u001b[0m\n\u001b[0m",
      "\u001b[1;31mNameError\u001b[0m: name 'sqr' is not defined"
     ]
    }
   ],
   "source": [
    "print(sqr)"
   ]
  },
  {
   "cell_type": "code",
   "execution_count": 6,
   "id": "e42c4b46",
   "metadata": {},
   "outputs": [
    {
     "ename": "NameError",
     "evalue": "name 'name' is not defined",
     "output_type": "error",
     "traceback": [
      "\u001b[1;31m---------------------------------------------------------------------------\u001b[0m",
      "\u001b[1;31mNameError\u001b[0m                                 Traceback (most recent call last)",
      "\u001b[1;32mC:\\Users\\LAB02R~1\\AppData\\Local\\Temp/ipykernel_6484/2122694447.py\u001b[0m in \u001b[0;36m<module>\u001b[1;34m\u001b[0m\n\u001b[1;32m----> 1\u001b[1;33m \u001b[0mprint\u001b[0m\u001b[1;33m(\u001b[0m\u001b[0mname\u001b[0m\u001b[1;33m)\u001b[0m\u001b[1;33m\u001b[0m\u001b[1;33m\u001b[0m\u001b[0m\n\u001b[0m",
      "\u001b[1;31mNameError\u001b[0m: name 'name' is not defined"
     ]
    }
   ],
   "source": [
    "print(name)"
   ]
  },
  {
   "cell_type": "code",
   "execution_count": null,
   "id": "d4976db5",
   "metadata": {},
   "outputs": [],
   "source": [
    "#return anpe sath leja sakh ta hn (function se value ko bhar nikla ne ke lia)"
   ]
  },
  {
   "cell_type": "code",
   "execution_count": 7,
   "id": "7ab61fb6",
   "metadata": {},
   "outputs": [],
   "source": [
    "def sqr(num):\n",
    "    Sqr=num*num\n",
    "    return Sqr\n",
    "    #return num*num"
   ]
  },
  {
   "cell_type": "code",
   "execution_count": 8,
   "id": "07e2d0ea",
   "metadata": {},
   "outputs": [
    {
     "data": {
      "text/plain": [
       "100"
      ]
     },
     "execution_count": 8,
     "metadata": {},
     "output_type": "execute_result"
    }
   ],
   "source": [
    "sqr(10)"
   ]
  },
  {
   "cell_type": "code",
   "execution_count": 9,
   "id": "ad9e76b4",
   "metadata": {},
   "outputs": [],
   "source": [
    "#varible me stor kera de \n",
    "ans=sqr(10)"
   ]
  },
  {
   "cell_type": "code",
   "execution_count": 10,
   "id": "db619040",
   "metadata": {},
   "outputs": [
    {
     "data": {
      "text/plain": [
       "100"
      ]
     },
     "execution_count": 10,
     "metadata": {},
     "output_type": "execute_result"
    }
   ],
   "source": [
    "ans"
   ]
  },
  {
   "cell_type": "code",
   "execution_count": null,
   "id": "5f885b67",
   "metadata": {},
   "outputs": [],
   "source": [
    "#Ek block ka bana ye hn aus me ek rturn ho ga "
   ]
  },
  {
   "cell_type": "code",
   "execution_count": 11,
   "id": "a6ec2752",
   "metadata": {},
   "outputs": [],
   "source": [
    "#return  num**2,\"hlee0\" ek ze zada value ahhn ge to vo tuple ke form me ahh ge "
   ]
  },
  {
   "cell_type": "code",
   "execution_count": 12,
   "id": "dea272bd",
   "metadata": {},
   "outputs": [],
   "source": [
    "def add(num_1,num_2):\n",
    "    return num_1+num_2\n"
   ]
  },
  {
   "cell_type": "code",
   "execution_count": 13,
   "id": "564bd437",
   "metadata": {},
   "outputs": [
    {
     "name": "stdout",
     "output_type": "stream",
     "text": [
      "8\n"
     ]
    }
   ],
   "source": [
    "print(add(3,5))"
   ]
  },
  {
   "cell_type": "code",
   "execution_count": 14,
   "id": "d22cc11e",
   "metadata": {},
   "outputs": [],
   "source": [
    "def simple(num):\n",
    "    sqr=num*num\n",
    "    global name\n",
    "    name=\"syalni\""
   ]
  },
  {
   "cell_type": "code",
   "execution_count": 15,
   "id": "b2b03bc1",
   "metadata": {},
   "outputs": [
    {
     "ename": "NameError",
     "evalue": "name 'name' is not defined",
     "output_type": "error",
     "traceback": [
      "\u001b[1;31m---------------------------------------------------------------------------\u001b[0m",
      "\u001b[1;31mNameError\u001b[0m                                 Traceback (most recent call last)",
      "\u001b[1;32mC:\\Users\\LAB02R~1\\AppData\\Local\\Temp/ipykernel_6484/2122694447.py\u001b[0m in \u001b[0;36m<module>\u001b[1;34m\u001b[0m\n\u001b[1;32m----> 1\u001b[1;33m \u001b[0mprint\u001b[0m\u001b[1;33m(\u001b[0m\u001b[0mname\u001b[0m\u001b[1;33m)\u001b[0m\u001b[1;33m\u001b[0m\u001b[1;33m\u001b[0m\u001b[0m\n\u001b[0m",
      "\u001b[1;31mNameError\u001b[0m: name 'name' is not defined"
     ]
    }
   ],
   "source": [
    "# sentace error aah ga \n",
    "#function ke body me varible ko ager define kerna ho to him first functions call ker wa na ho ga \n",
    "print(name)"
   ]
  },
  {
   "cell_type": "code",
   "execution_count": 16,
   "id": "16e18abc",
   "metadata": {},
   "outputs": [],
   "source": [
    "simple(10)"
   ]
  },
  {
   "cell_type": "code",
   "execution_count": 17,
   "id": "1ebc198f",
   "metadata": {},
   "outputs": [
    {
     "name": "stdout",
     "output_type": "stream",
     "text": [
      "syalni\n"
     ]
    }
   ],
   "source": [
    "print(name)"
   ]
  },
  {
   "cell_type": "code",
   "execution_count": 27,
   "id": "6b72fe09",
   "metadata": {},
   "outputs": [],
   "source": [
    "a=[]\n",
    "def append(num, rang):\n",
    "\n",
    "    for i  in range(rang):\n",
    "        a.append(num)\n",
    "        "
   ]
  },
  {
   "cell_type": "code",
   "execution_count": 28,
   "id": "5cd8f906",
   "metadata": {},
   "outputs": [],
   "source": [
    "append(2,5)"
   ]
  },
  {
   "cell_type": "code",
   "execution_count": 29,
   "id": "c5397264",
   "metadata": {},
   "outputs": [
    {
     "data": {
      "text/plain": [
       "[2, 2, 2, 2, 2]"
      ]
     },
     "execution_count": 29,
     "metadata": {},
     "output_type": "execute_result"
    }
   ],
   "source": [
    "a"
   ]
  },
  {
   "cell_type": "code",
   "execution_count": 30,
   "id": "ddfc572a",
   "metadata": {},
   "outputs": [],
   "source": [
    "def sub(v1,v2):\n",
    "    ans=v2-v1\n",
    "    print(ans)"
   ]
  },
  {
   "cell_type": "code",
   "execution_count": 31,
   "id": "32b33c24",
   "metadata": {},
   "outputs": [
    {
     "name": "stdout",
     "output_type": "stream",
     "text": [
      "-10\n",
      "None\n"
     ]
    }
   ],
   "source": [
    "print(sub(20,10))"
   ]
  },
  {
   "cell_type": "code",
   "execution_count": 32,
   "id": "c31ca392",
   "metadata": {},
   "outputs": [],
   "source": [
    "def sub(v1,v2):\n",
    "    ans=v2-v1\n",
    "    return"
   ]
  },
  {
   "cell_type": "code",
   "execution_count": 33,
   "id": "4d9fd436",
   "metadata": {},
   "outputs": [
    {
     "name": "stdout",
     "output_type": "stream",
     "text": [
      "None\n"
     ]
    }
   ],
   "source": [
    "print(sub(220,34))"
   ]
  },
  {
   "cell_type": "code",
   "execution_count": 44,
   "id": "5519e2ba",
   "metadata": {},
   "outputs": [],
   "source": [
    "a=[]\n",
    "def append_prime_num(num,rang):\n",
    "    for i in range(rang):\n",
    "        for n in range(2,num):\n",
    "            if num%n==0:\n",
    "                a.append(n)\n",
    "                \n",
    "            "
   ]
  },
  {
   "cell_type": "code",
   "execution_count": 45,
   "id": "5c5c3944",
   "metadata": {},
   "outputs": [],
   "source": [
    "append_prime_num(10,5)"
   ]
  },
  {
   "cell_type": "code",
   "execution_count": 46,
   "id": "185426e8",
   "metadata": {},
   "outputs": [
    {
     "data": {
      "text/plain": [
       "[2, 5, 2, 5, 2, 5, 2, 5, 2, 5]"
      ]
     },
     "execution_count": 46,
     "metadata": {},
     "output_type": "execute_result"
    }
   ],
   "source": [
    "a"
   ]
  },
  {
   "cell_type": "markdown",
   "id": "4143b140",
   "metadata": {},
   "source": [
    "# positional parameters and arguments"
   ]
  },
  {
   "cell_type": "code",
   "execution_count": 50,
   "id": "0a46ea13",
   "metadata": {},
   "outputs": [],
   "source": [
    "def complate_name(first_number,last_name):\n",
    "    full_name=first_number+ \" \"+last_name\n",
    "    return full_name"
   ]
  },
  {
   "cell_type": "code",
   "execution_count": null,
   "id": "e59d5881",
   "metadata": {},
   "outputs": [],
   "source": []
  },
  {
   "cell_type": "code",
   "execution_count": 51,
   "id": "40ccc251",
   "metadata": {},
   "outputs": [
    {
     "name": "stdout",
     "output_type": "stream",
     "text": [
      "pooran parshant\n"
     ]
    }
   ],
   "source": [
    "print(complate_name(\"pooran\", 'parshant'))"
   ]
  },
  {
   "cell_type": "markdown",
   "id": "3f1fee8d",
   "metadata": {},
   "source": [
    "# defualt permater"
   ]
  },
  {
   "cell_type": "code",
   "execution_count": 52,
   "id": "a5c50c58",
   "metadata": {},
   "outputs": [],
   "source": [
    "def cub(num=4):\n",
    "    a=num**3\n",
    "    return a"
   ]
  },
  {
   "cell_type": "code",
   "execution_count": 53,
   "id": "1069610f",
   "metadata": {},
   "outputs": [
    {
     "data": {
      "text/plain": [
       "64"
      ]
     },
     "execution_count": 53,
     "metadata": {},
     "output_type": "execute_result"
    }
   ],
   "source": [
    "cub()"
   ]
  },
  {
   "cell_type": "code",
   "execution_count": 54,
   "id": "8646e80b",
   "metadata": {},
   "outputs": [],
   "source": [
    "def complate_name(first_number,last_name):\n",
    "    full_name=first_number+ \" \"+last_name\n",
    "    return full_name"
   ]
  },
  {
   "cell_type": "code",
   "execution_count": 57,
   "id": "44639f7b",
   "metadata": {},
   "outputs": [
    {
     "name": "stdout",
     "output_type": "stream",
     "text": [
      "pooran\n",
      "parshant\n"
     ]
    }
   ],
   "source": [
    "#example\n",
    "print(\"pooran\", 'parshant',sep='\\n')"
   ]
  },
  {
   "cell_type": "code",
   "execution_count": 58,
   "id": "a945816d",
   "metadata": {},
   "outputs": [
    {
     "name": "stdout",
     "output_type": "stream",
     "text": [
      "111,223,334\n"
     ]
    }
   ],
   "source": [
    "print(\"{:,}\".format(111223334))"
   ]
  },
  {
   "cell_type": "code",
   "execution_count": 59,
   "id": "03e8e118",
   "metadata": {},
   "outputs": [],
   "source": [
    "def max_list(num):\n",
    "    a=max(num)\n",
    "    return a"
   ]
  },
  {
   "cell_type": "code",
   "execution_count": 60,
   "id": "c97635dc",
   "metadata": {},
   "outputs": [
    {
     "data": {
      "text/plain": [
       "54"
      ]
     },
     "execution_count": 60,
     "metadata": {},
     "output_type": "execute_result"
    }
   ],
   "source": [
    "max_list([1,3,54,3,3,2,2])"
   ]
  },
  {
   "cell_type": "code",
   "execution_count": 68,
   "id": "edf414b6",
   "metadata": {},
   "outputs": [],
   "source": [
    "def max_list(num_1):\n",
    "    a=max(num_1)\n",
    "    b=min(num_1)\n",
    "    return f\"max_number: {a}, min_num: {b}\""
   ]
  },
  {
   "cell_type": "code",
   "execution_count": null,
   "id": "7885bdf5",
   "metadata": {},
   "outputs": [],
   "source": []
  },
  {
   "cell_type": "code",
   "execution_count": 69,
   "id": "8acf215a",
   "metadata": {},
   "outputs": [
    {
     "data": {
      "text/plain": [
       "'max_number: 345, min_num: 6'"
      ]
     },
     "execution_count": 69,
     "metadata": {},
     "output_type": "execute_result"
    }
   ],
   "source": [
    "max_list([123,345,56,7,6])"
   ]
  },
  {
   "cell_type": "code",
   "execution_count": 70,
   "id": "dfd4b4a4",
   "metadata": {},
   "outputs": [],
   "source": [
    "def do_squar(arr):\n",
    "    return[ a**2 for a in arr]\n"
   ]
  },
  {
   "cell_type": "code",
   "execution_count": 73,
   "id": "1847fc23",
   "metadata": {},
   "outputs": [
    {
     "data": {
      "text/plain": [
       "[4, 1156, 3025, 4489]"
      ]
     },
     "execution_count": 73,
     "metadata": {},
     "output_type": "execute_result"
    }
   ],
   "source": [
    "do_squar([2,34,55,67])"
   ]
  },
  {
   "cell_type": "code",
   "execution_count": 74,
   "id": "78b1f85f",
   "metadata": {},
   "outputs": [],
   "source": [
    "def threesquar(arr):\n",
    "    return[a**2 if a<10 else a for a in arr]"
   ]
  },
  {
   "cell_type": "code",
   "execution_count": 75,
   "id": "2df6cce9",
   "metadata": {},
   "outputs": [
    {
     "data": {
      "text/plain": [
       "[12, 16, 25, 36, 36]"
      ]
     },
     "execution_count": 75,
     "metadata": {},
     "output_type": "execute_result"
    }
   ],
   "source": [
    "threesquar([12,4,5,6,6])"
   ]
  },
  {
   "cell_type": "code",
   "execution_count": null,
   "id": "292ba149",
   "metadata": {},
   "outputs": [],
   "source": []
  },
  {
   "cell_type": "code",
   "execution_count": null,
   "id": "0f66647f",
   "metadata": {},
   "outputs": [],
   "source": [
    "def name_length():\n",
    "    return []"
   ]
  },
  {
   "cell_type": "code",
   "execution_count": null,
   "id": "e294fc5c",
   "metadata": {},
   "outputs": [],
   "source": [
    "name_length(['pooran','pooran parshant'])"
   ]
  },
  {
   "cell_type": "code",
   "execution_count": null,
   "id": "85c455d7",
   "metadata": {},
   "outputs": [],
   "source": []
  },
  {
   "cell_type": "code",
   "execution_count": null,
   "id": "5a7b964d",
   "metadata": {},
   "outputs": [],
   "source": []
  },
  {
   "cell_type": "code",
   "execution_count": null,
   "id": "32a9fa6a",
   "metadata": {},
   "outputs": [],
   "source": []
  },
  {
   "cell_type": "code",
   "execution_count": null,
   "id": "5c667e07",
   "metadata": {},
   "outputs": [],
   "source": []
  },
  {
   "cell_type": "code",
   "execution_count": null,
   "id": "eb36d350",
   "metadata": {},
   "outputs": [],
   "source": []
  },
  {
   "cell_type": "code",
   "execution_count": null,
   "id": "d3790db8",
   "metadata": {},
   "outputs": [],
   "source": []
  },
  {
   "cell_type": "code",
   "execution_count": null,
   "id": "bb7280a5",
   "metadata": {},
   "outputs": [],
   "source": []
  },
  {
   "cell_type": "code",
   "execution_count": null,
   "id": "8f7cc453",
   "metadata": {},
   "outputs": [],
   "source": []
  },
  {
   "cell_type": "code",
   "execution_count": null,
   "id": "d9c798b2",
   "metadata": {},
   "outputs": [],
   "source": []
  },
  {
   "cell_type": "code",
   "execution_count": null,
   "id": "cac94c14",
   "metadata": {},
   "outputs": [],
   "source": []
  },
  {
   "cell_type": "code",
   "execution_count": null,
   "id": "08a2befd",
   "metadata": {},
   "outputs": [],
   "source": []
  },
  {
   "cell_type": "code",
   "execution_count": null,
   "id": "1d580d00",
   "metadata": {},
   "outputs": [],
   "source": []
  },
  {
   "cell_type": "code",
   "execution_count": null,
   "id": "2407f049",
   "metadata": {},
   "outputs": [],
   "source": []
  },
  {
   "cell_type": "code",
   "execution_count": null,
   "id": "98edae50",
   "metadata": {},
   "outputs": [],
   "source": []
  },
  {
   "cell_type": "code",
   "execution_count": null,
   "id": "9d708848",
   "metadata": {},
   "outputs": [],
   "source": []
  }
 ],
 "metadata": {
  "kernelspec": {
   "display_name": "Python 3 (ipykernel)",
   "language": "python",
   "name": "python3"
  },
  "language_info": {
   "codemirror_mode": {
    "name": "ipython",
    "version": 3
   },
   "file_extension": ".py",
   "mimetype": "text/x-python",
   "name": "python",
   "nbconvert_exporter": "python",
   "pygments_lexer": "ipython3",
   "version": "3.9.7"
  }
 },
 "nbformat": 4,
 "nbformat_minor": 5
}
