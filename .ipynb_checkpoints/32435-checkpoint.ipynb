{
 "cells": [
  {
   "cell_type": "code",
   "execution_count": 2,
   "id": "7b12e229",
   "metadata": {},
   "outputs": [
    {
     "name": "stdout",
     "output_type": "stream",
     "text": [
      "plase enter name pooran\n",
      "'hello!,pooran '\n"
     ]
    }
   ],
   "source": [
    "name = input(\"plase enter name \")\n",
    "str1=\"'hello!,{} '\".format(name)\n",
    "print(str1)"
   ]
  },
  {
   "cell_type": "code",
   "execution_count": 6,
   "id": "c7845a6b",
   "metadata": {},
   "outputs": [
    {
     "name": "stdout",
     "output_type": "stream",
     "text": [
      "[0, 2, 4, 6, 8, 10, 12, 14, 16, 18]\n"
     ]
    }
   ],
   "source": [
    "n=[x for x in range(20) if x % 2 == 0]\n",
    "print(n)"
   ]
  },
  {
   "cell_type": "code",
   "execution_count": null,
   "id": "46d179c6",
   "metadata": {},
   "outputs": [],
   "source": []
  },
  {
   "cell_type": "code",
   "execution_count": 4,
   "id": "95899086",
   "metadata": {},
   "outputs": [
    {
     "name": "stdout",
     "output_type": "stream",
     "text": [
      "naroop"
     ]
    }
   ],
   "source": [
    "name=\"pooran\"\n",
    "for i in name[::-1]:\n",
    "    print(i, end=\"\")"
   ]
  },
  {
   "cell_type": "code",
   "execution_count": 5,
   "id": "e69b728a",
   "metadata": {},
   "outputs": [
    {
     "name": "stdout",
     "output_type": "stream",
     "text": [
      "pooran parshant\n",
      "pooran hussain\n",
      "nasir parshant\n",
      "nasir hussain\n"
     ]
    }
   ],
   "source": [
    "lst=['pooran', 'nasir']\n",
    "lst2=['parshant', 'hussain']\n",
    "for name in lst:\n",
    "    for i in lst2:\n",
    "        print(f'{name} {i}')"
   ]
  },
  {
   "cell_type": "code",
   "execution_count": 11,
   "id": "5f62aa17",
   "metadata": {},
   "outputs": [
    {
     "name": "stdout",
     "output_type": "stream",
     "text": [
      "0\n",
      "parshant\n",
      "pooranparshant\n",
      "1\n",
      "hussain\n",
      "nasirhussain\n"
     ]
    }
   ],
   "source": [
    "lst=['pooran', 'nasir']\n",
    "lst2=['parshant', 'hussain']\n",
    "for name in lst:\n",
    "    print(lst.index(name))\n",
    "    lst2[lst.index(name)]  \n",
    "    print(lst2[lst.index(name)])\n",
    "    print(name+lst2[lst.index(name)])\n",
    "    "
   ]
  },
  {
   "cell_type": "code",
   "execution_count": 12,
   "id": "cb72a194",
   "metadata": {},
   "outputs": [
    {
     "name": "stdout",
     "output_type": "stream",
     "text": [
      "1 1\n",
      "2 2\n",
      "3 3\n",
      "4 4\n",
      "5 5\n",
      "6 6\n",
      "7 7\n"
     ]
    }
   ],
   "source": [
    "val1=[1,2,3,4,5,6,7]\n",
    "val2=[1,2,3,4,5,6,7]\n",
    "for a in val1:\n",
    "    print(f'{a} {val2[val1.index(a)]}')"
   ]
  },
  {
   "cell_type": "code",
   "execution_count": 13,
   "id": "b6a9383a",
   "metadata": {},
   "outputs": [],
   "source": [
    "dictionary={'name':\"pooran\", 'age':22, 'course':\"DS&AI\", }\n"
   ]
  },
  {
   "cell_type": "code",
   "execution_count": 14,
   "id": "733c85b0",
   "metadata": {},
   "outputs": [
    {
     "data": {
      "text/plain": [
       "'pooran'"
      ]
     },
     "execution_count": 14,
     "metadata": {},
     "output_type": "execute_result"
    }
   ],
   "source": [
    "#fatch\n",
    "dictionary['name']"
   ]
  },
  {
   "cell_type": "code",
   "execution_count": 17,
   "id": "0d909a3f",
   "metadata": {},
   "outputs": [],
   "source": [
    "#updating  dictionar  exiting key \n",
    "dictionary['name']='nasir'"
   ]
  },
  {
   "cell_type": "code",
   "execution_count": 18,
   "id": "57a87dd2",
   "metadata": {},
   "outputs": [
    {
     "data": {
      "text/plain": [
       "{'name': 'nasir', 'age': 22, 'course': 'DS&AI'}"
      ]
     },
     "execution_count": 18,
     "metadata": {},
     "output_type": "execute_result"
    }
   ],
   "source": [
    "dictionary"
   ]
  },
  {
   "cell_type": "code",
   "execution_count": 19,
   "id": "4ee7787a",
   "metadata": {},
   "outputs": [],
   "source": [
    "dictionary['camups']='saylani'"
   ]
  },
  {
   "cell_type": "code",
   "execution_count": 20,
   "id": "6782d7cd",
   "metadata": {},
   "outputs": [
    {
     "data": {
      "text/plain": [
       "{'name': 'nasir', 'age': 22, 'course': 'DS&AI', 'camups': 'saylani'}"
      ]
     },
     "execution_count": 20,
     "metadata": {},
     "output_type": "execute_result"
    }
   ],
   "source": [
    "dictionary"
   ]
  },
  {
   "cell_type": "code",
   "execution_count": 21,
   "id": "4d5e63bd",
   "metadata": {},
   "outputs": [],
   "source": [
    "#delete\n",
    "del dictionary['camups']"
   ]
  },
  {
   "cell_type": "code",
   "execution_count": 22,
   "id": "f605d934",
   "metadata": {},
   "outputs": [
    {
     "data": {
      "text/plain": [
       "{'name': 'nasir', 'age': 22, 'course': 'DS&AI'}"
      ]
     },
     "execution_count": 22,
     "metadata": {},
     "output_type": "execute_result"
    }
   ],
   "source": [
    "dictionary"
   ]
  },
  {
   "cell_type": "code",
   "execution_count": 23,
   "id": "b8a2b2d4",
   "metadata": {},
   "outputs": [
    {
     "name": "stdout",
     "output_type": "stream",
     "text": [
      "dict_keys(['name', 'age', 'course'])\n"
     ]
    }
   ],
   "source": [
    "print(dictionary.keys())"
   ]
  },
  {
   "cell_type": "code",
   "execution_count": 25,
   "id": "44b7d34a",
   "metadata": {},
   "outputs": [
    {
     "name": "stdout",
     "output_type": "stream",
     "text": [
      "dict_values(['nasir', 22, 'DS&AI'])\n"
     ]
    }
   ],
   "source": [
    "print(dictionary.values())"
   ]
  },
  {
   "cell_type": "code",
   "execution_count": 40,
   "id": "dd556ce3",
   "metadata": {},
   "outputs": [],
   "source": [
    "score={'baber':40, \"afradi\":69, \"razwan\":80}\n"
   ]
  },
  {
   "cell_type": "code",
   "execution_count": null,
   "id": "55b189b0",
   "metadata": {},
   "outputs": [],
   "source": []
  },
  {
   "cell_type": "code",
   "execution_count": 41,
   "id": "bc8b5e36",
   "metadata": {},
   "outputs": [
    {
     "name": "stdout",
     "output_type": "stream",
     "text": [
      "baber\n",
      "afradi\n",
      "razwan\n"
     ]
    }
   ],
   "source": [
    "for key in score:\n",
    "    print(key)"
   ]
  },
  {
   "cell_type": "code",
   "execution_count": null,
   "id": "a4252ab0",
   "metadata": {},
   "outputs": [],
   "source": []
  },
  {
   "cell_type": "code",
   "execution_count": 42,
   "id": "ad36227c",
   "metadata": {},
   "outputs": [
    {
     "name": "stdout",
     "output_type": "stream",
     "text": [
      "40\n",
      "69\n",
      "80\n"
     ]
    }
   ],
   "source": [
    "for vlaue in score.values():\n",
    "    print(vlaue)"
   ]
  },
  {
   "cell_type": "code",
   "execution_count": null,
   "id": "1e864b3d",
   "metadata": {},
   "outputs": [],
   "source": []
  },
  {
   "cell_type": "code",
   "execution_count": 43,
   "id": "fe2b8f73",
   "metadata": {},
   "outputs": [
    {
     "name": "stdout",
     "output_type": "stream",
     "text": [
      "('baber', 40)\n",
      "('afradi', 69)\n",
      "('razwan', 80)\n"
     ]
    }
   ],
   "source": [
    "for score1 in score.items():\n",
    "    print(score1)"
   ]
  },
  {
   "cell_type": "code",
   "execution_count": null,
   "id": "6dfa9620",
   "metadata": {},
   "outputs": [],
   "source": []
  },
  {
   "cell_type": "code",
   "execution_count": null,
   "id": "ab064e71",
   "metadata": {},
   "outputs": [],
   "source": []
  },
  {
   "cell_type": "code",
   "execution_count": null,
   "id": "1e0f4b84",
   "metadata": {},
   "outputs": [],
   "source": []
  },
  {
   "cell_type": "code",
   "execution_count": 44,
   "id": "35e7cda8",
   "metadata": {},
   "outputs": [
    {
     "name": "stdout",
     "output_type": "stream",
     "text": [
      "key:baber, value:40\n",
      "key:afradi, value:69\n",
      "key:razwan, value:80\n"
     ]
    }
   ],
   "source": [
    "for key,val in score.items():\n",
    "    print(f'key:{key}, value:{val}')"
   ]
  },
  {
   "cell_type": "code",
   "execution_count": null,
   "id": "9aae009b",
   "metadata": {},
   "outputs": [],
   "source": []
  },
  {
   "cell_type": "code",
   "execution_count": null,
   "id": "d9e39fc3",
   "metadata": {},
   "outputs": [],
   "source": []
  },
  {
   "cell_type": "code",
   "execution_count": null,
   "id": "5fc5a118",
   "metadata": {},
   "outputs": [],
   "source": []
  },
  {
   "cell_type": "code",
   "execution_count": null,
   "id": "0e38ef36",
   "metadata": {},
   "outputs": [],
   "source": []
  },
  {
   "cell_type": "code",
   "execution_count": 46,
   "id": "b8f54598",
   "metadata": {},
   "outputs": [
    {
     "name": "stdout",
     "output_type": "stream",
     "text": [
      "40\n",
      "69\n",
      "80\n"
     ]
    }
   ],
   "source": [
    "for key in score.keys():\n",
    "    print(score[key])"
   ]
  },
  {
   "cell_type": "code",
   "execution_count": null,
   "id": "c115690d",
   "metadata": {},
   "outputs": [],
   "source": []
  },
  {
   "cell_type": "code",
   "execution_count": null,
   "id": "38ddb1c0",
   "metadata": {},
   "outputs": [],
   "source": []
  },
  {
   "cell_type": "code",
   "execution_count": null,
   "id": "9c7da9c1",
   "metadata": {},
   "outputs": [],
   "source": []
  },
  {
   "cell_type": "code",
   "execution_count": null,
   "id": "2ebe4f4b",
   "metadata": {},
   "outputs": [],
   "source": []
  },
  {
   "cell_type": "code",
   "execution_count": null,
   "id": "25b5806f",
   "metadata": {},
   "outputs": [],
   "source": []
  },
  {
   "cell_type": "code",
   "execution_count": null,
   "id": "b92feef4",
   "metadata": {},
   "outputs": [],
   "source": []
  },
  {
   "cell_type": "code",
   "execution_count": null,
   "id": "6178a5a1",
   "metadata": {},
   "outputs": [],
   "source": []
  },
  {
   "cell_type": "code",
   "execution_count": null,
   "id": "9ec60920",
   "metadata": {},
   "outputs": [],
   "source": []
  },
  {
   "cell_type": "code",
   "execution_count": null,
   "id": "becf8766",
   "metadata": {},
   "outputs": [],
   "source": []
  },
  {
   "cell_type": "code",
   "execution_count": null,
   "id": "e7175bb4",
   "metadata": {},
   "outputs": [],
   "source": []
  },
  {
   "cell_type": "code",
   "execution_count": null,
   "id": "ec166bac",
   "metadata": {},
   "outputs": [],
   "source": []
  },
  {
   "cell_type": "code",
   "execution_count": null,
   "id": "e7e30516",
   "metadata": {},
   "outputs": [],
   "source": []
  },
  {
   "cell_type": "code",
   "execution_count": 7,
   "id": "5cfe98aa",
   "metadata": {},
   "outputs": [
    {
     "data": {
      "text/plain": [
       "1"
      ]
     },
     "execution_count": 7,
     "metadata": {},
     "output_type": "execute_result"
    }
   ],
   "source": [
    "lst.index()"
   ]
  },
  {
   "cell_type": "code",
   "execution_count": null,
   "id": "8d022cb8",
   "metadata": {},
   "outputs": [],
   "source": []
  }
 ],
 "metadata": {
  "kernelspec": {
   "display_name": "Python 3 (ipykernel)",
   "language": "python",
   "name": "python3"
  },
  "language_info": {
   "codemirror_mode": {
    "name": "ipython",
    "version": 3
   },
   "file_extension": ".py",
   "mimetype": "text/x-python",
   "name": "python",
   "nbconvert_exporter": "python",
   "pygments_lexer": "ipython3",
   "version": "3.9.7"
  }
 },
 "nbformat": 4,
 "nbformat_minor": 5
}
