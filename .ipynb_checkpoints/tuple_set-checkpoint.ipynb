{
 "cells": [
  {
   "cell_type": "markdown",
   "id": "d469b50e",
   "metadata": {},
   "source": [
    "# tuple\n",
    "\n",
    "tuple imputable \n",
    "\n",
    "tuple can not mutable \n",
    "\n",
    "define in ()\n"
   ]
  },
  {
   "cell_type": "code",
   "execution_count": 1,
   "id": "253a24c5",
   "metadata": {},
   "outputs": [],
   "source": [
    "t=(1,3,(2,4),[1,23,4],{\"a\":2,\"b\":3})"
   ]
  },
  {
   "cell_type": "code",
   "execution_count": 15,
   "id": "827090e4",
   "metadata": {},
   "outputs": [
    {
     "data": {
      "text/plain": [
       "1"
      ]
     },
     "execution_count": 15,
     "metadata": {},
     "output_type": "execute_result"
    }
   ],
   "source": [
    "t[0]"
   ]
  },
  {
   "cell_type": "code",
   "execution_count": 16,
   "id": "14df5886",
   "metadata": {},
   "outputs": [
    {
     "data": {
      "text/plain": [
       "1"
      ]
     },
     "execution_count": 16,
     "metadata": {},
     "output_type": "execute_result"
    }
   ],
   "source": [
    "t.count(1)"
   ]
  },
  {
   "cell_type": "code",
   "execution_count": 17,
   "id": "970e1545",
   "metadata": {},
   "outputs": [
    {
     "data": {
      "text/plain": [
       "0"
      ]
     },
     "execution_count": 17,
     "metadata": {},
     "output_type": "execute_result"
    }
   ],
   "source": [
    "t.index(1)"
   ]
  },
  {
   "cell_type": "code",
   "execution_count": null,
   "id": "aa274203",
   "metadata": {},
   "outputs": [],
   "source": []
  },
  {
   "cell_type": "markdown",
   "id": "f893b37b",
   "metadata": {},
   "source": [
    "# set\n",
    "collections of data\n",
    "\n",
    "unique elemet no dupilations\n",
    "{} not key value pair"
   ]
  },
  {
   "cell_type": "code",
   "execution_count": 3,
   "id": "3324e779",
   "metadata": {},
   "outputs": [],
   "source": [
    "s={}"
   ]
  },
  {
   "cell_type": "code",
   "execution_count": 4,
   "id": "5e44c40c",
   "metadata": {},
   "outputs": [
    {
     "data": {
      "text/plain": [
       "dict"
      ]
     },
     "execution_count": 4,
     "metadata": {},
     "output_type": "execute_result"
    }
   ],
   "source": [
    "type(s)"
   ]
  },
  {
   "cell_type": "code",
   "execution_count": 5,
   "id": "874084c0",
   "metadata": {},
   "outputs": [],
   "source": [
    "s={1,2,4}"
   ]
  },
  {
   "cell_type": "code",
   "execution_count": 6,
   "id": "54f172ed",
   "metadata": {},
   "outputs": [
    {
     "data": {
      "text/plain": [
       "set"
      ]
     },
     "execution_count": 6,
     "metadata": {},
     "output_type": "execute_result"
    }
   ],
   "source": [
    "type(s)"
   ]
  },
  {
   "cell_type": "code",
   "execution_count": 8,
   "id": "f15df756",
   "metadata": {},
   "outputs": [],
   "source": [
    "s={1,2,4,5,5,6,6,2}"
   ]
  },
  {
   "cell_type": "code",
   "execution_count": 9,
   "id": "1e32f347",
   "metadata": {},
   "outputs": [
    {
     "data": {
      "text/plain": [
       "{1, 2, 4, 5, 6}"
      ]
     },
     "execution_count": 9,
     "metadata": {},
     "output_type": "execute_result"
    }
   ],
   "source": [
    "s"
   ]
  },
  {
   "cell_type": "code",
   "execution_count": 10,
   "id": "36ca27ec",
   "metadata": {},
   "outputs": [],
   "source": [
    "alist=[22,33,44,55,33,22,44,55]"
   ]
  },
  {
   "cell_type": "code",
   "execution_count": 11,
   "id": "d12ca75c",
   "metadata": {},
   "outputs": [],
   "source": [
    "newlist=[]\n",
    "for a in alist:\n",
    "    if a not in newlist:\n",
    "        newlist.append(a)\n",
    "        "
   ]
  },
  {
   "cell_type": "code",
   "execution_count": 12,
   "id": "e0ab040e",
   "metadata": {},
   "outputs": [
    {
     "data": {
      "text/plain": [
       "[22, 33, 44, 55]"
      ]
     },
     "execution_count": 12,
     "metadata": {},
     "output_type": "execute_result"
    }
   ],
   "source": [
    "newlist"
   ]
  },
  {
   "cell_type": "code",
   "execution_count": null,
   "id": "ef463577",
   "metadata": {},
   "outputs": [],
   "source": []
  },
  {
   "cell_type": "code",
   "execution_count": 13,
   "id": "4809c2cb",
   "metadata": {},
   "outputs": [],
   "source": [
    "alist=list(set(alist))"
   ]
  },
  {
   "cell_type": "code",
   "execution_count": 14,
   "id": "87bb1989",
   "metadata": {},
   "outputs": [
    {
     "data": {
      "text/plain": [
       "[33, 44, 22, 55]"
      ]
     },
     "execution_count": 14,
     "metadata": {},
     "output_type": "execute_result"
    }
   ],
   "source": [
    "alist"
   ]
  },
  {
   "cell_type": "code",
   "execution_count": 18,
   "id": "ea75d85a",
   "metadata": {},
   "outputs": [],
   "source": [
    "my_set={2,3,3,5,6,7,8,9}"
   ]
  },
  {
   "cell_type": "code",
   "execution_count": 19,
   "id": "7a5c469a",
   "metadata": {},
   "outputs": [],
   "source": [
    "my_set.add(1000)"
   ]
  },
  {
   "cell_type": "code",
   "execution_count": 20,
   "id": "b2e41bd5",
   "metadata": {},
   "outputs": [
    {
     "data": {
      "text/plain": [
       "{2, 3, 5, 6, 7, 8, 9, 1000}"
      ]
     },
     "execution_count": 20,
     "metadata": {},
     "output_type": "execute_result"
    }
   ],
   "source": [
    "my_set"
   ]
  },
  {
   "cell_type": "code",
   "execution_count": 22,
   "id": "6b7c2e60",
   "metadata": {},
   "outputs": [],
   "source": [
    "my_set.clear()"
   ]
  },
  {
   "cell_type": "code",
   "execution_count": 23,
   "id": "87aec6d1",
   "metadata": {},
   "outputs": [
    {
     "data": {
      "text/plain": [
       "set()"
      ]
     },
     "execution_count": 23,
     "metadata": {},
     "output_type": "execute_result"
    }
   ],
   "source": [
    "my_set"
   ]
  },
  {
   "cell_type": "code",
   "execution_count": null,
   "id": "23d5dc2a",
   "metadata": {},
   "outputs": [],
   "source": []
  },
  {
   "cell_type": "code",
   "execution_count": 35,
   "id": "05539cef",
   "metadata": {},
   "outputs": [],
   "source": [
    "my_set={2,3,3,5,6,7,8,9}\n"
   ]
  },
  {
   "cell_type": "code",
   "execution_count": null,
   "id": "e064e9b8",
   "metadata": {},
   "outputs": [],
   "source": []
  },
  {
   "cell_type": "code",
   "execution_count": 36,
   "id": "9cc360ed",
   "metadata": {},
   "outputs": [],
   "source": [
    "my_set2={2,4,5,3,4,6}"
   ]
  },
  {
   "cell_type": "code",
   "execution_count": 27,
   "id": "a771359f",
   "metadata": {},
   "outputs": [
    {
     "data": {
      "text/plain": [
       "{7, 8, 9}"
      ]
     },
     "execution_count": 27,
     "metadata": {},
     "output_type": "execute_result"
    }
   ],
   "source": [
    "my_set.difference(my_set2)"
   ]
  },
  {
   "cell_type": "code",
   "execution_count": 28,
   "id": "ea20e2bb",
   "metadata": {},
   "outputs": [
    {
     "data": {
      "text/plain": [
       "{2, 3, 5, 6}"
      ]
     },
     "execution_count": 28,
     "metadata": {},
     "output_type": "execute_result"
    }
   ],
   "source": [
    "my_set.intersection(my_set2)"
   ]
  },
  {
   "cell_type": "code",
   "execution_count": 29,
   "id": "ff49e2d4",
   "metadata": {},
   "outputs": [],
   "source": [
    "my_set.discard(9)"
   ]
  },
  {
   "cell_type": "code",
   "execution_count": 30,
   "id": "6b863149",
   "metadata": {},
   "outputs": [
    {
     "data": {
      "text/plain": [
       "{2, 3, 5, 6, 7, 8}"
      ]
     },
     "execution_count": 30,
     "metadata": {},
     "output_type": "execute_result"
    }
   ],
   "source": [
    "my_set"
   ]
  },
  {
   "cell_type": "code",
   "execution_count": 31,
   "id": "001f5927",
   "metadata": {},
   "outputs": [],
   "source": [
    "my_set.difference_update(my_set2)"
   ]
  },
  {
   "cell_type": "code",
   "execution_count": 32,
   "id": "5ec14d9f",
   "metadata": {},
   "outputs": [
    {
     "data": {
      "text/plain": [
       "{7, 8}"
      ]
     },
     "execution_count": 32,
     "metadata": {},
     "output_type": "execute_result"
    }
   ],
   "source": [
    "my_set"
   ]
  },
  {
   "cell_type": "code",
   "execution_count": 37,
   "id": "a80e4b08",
   "metadata": {},
   "outputs": [],
   "source": [
    "my_set.intersection_update(my_set2)"
   ]
  },
  {
   "cell_type": "code",
   "execution_count": 38,
   "id": "96d8c67c",
   "metadata": {},
   "outputs": [
    {
     "data": {
      "text/plain": [
       "{2, 3, 5, 6}"
      ]
     },
     "execution_count": 38,
     "metadata": {},
     "output_type": "execute_result"
    }
   ],
   "source": [
    "my_set"
   ]
  },
  {
   "cell_type": "code",
   "execution_count": 40,
   "id": "ea3304b1",
   "metadata": {},
   "outputs": [
    {
     "data": {
      "text/plain": [
       "False"
      ]
     },
     "execution_count": 40,
     "metadata": {},
     "output_type": "execute_result"
    }
   ],
   "source": [
    "my_set.isdisjoint(my_set2)"
   ]
  },
  {
   "cell_type": "code",
   "execution_count": 41,
   "id": "e535db1c",
   "metadata": {},
   "outputs": [],
   "source": [
    "my_st3={1,2,3,4,4}"
   ]
  },
  {
   "cell_type": "code",
   "execution_count": 44,
   "id": "2784c790",
   "metadata": {},
   "outputs": [],
   "source": [
    "my_st4={11,33,44,6}"
   ]
  },
  {
   "cell_type": "code",
   "execution_count": 46,
   "id": "eda8d9b2",
   "metadata": {},
   "outputs": [],
   "source": [
    "my_set5={1,2}"
   ]
  },
  {
   "cell_type": "code",
   "execution_count": 45,
   "id": "f18db30e",
   "metadata": {},
   "outputs": [
    {
     "data": {
      "text/plain": [
       "True"
      ]
     },
     "execution_count": 45,
     "metadata": {},
     "output_type": "execute_result"
    }
   ],
   "source": [
    "my_st3.isdisjoint(my_st4)"
   ]
  },
  {
   "cell_type": "code",
   "execution_count": 48,
   "id": "3fe296fb",
   "metadata": {},
   "outputs": [
    {
     "data": {
      "text/plain": [
       "True"
      ]
     },
     "execution_count": 48,
     "metadata": {},
     "output_type": "execute_result"
    }
   ],
   "source": [
    "my_set5.issubset(my_st3)"
   ]
  },
  {
   "cell_type": "code",
   "execution_count": 50,
   "id": "00c343eb",
   "metadata": {},
   "outputs": [
    {
     "data": {
      "text/plain": [
       "True"
      ]
     },
     "execution_count": 50,
     "metadata": {},
     "output_type": "execute_result"
    }
   ],
   "source": [
    "my_st3.issuperset(my_set5)"
   ]
  },
  {
   "cell_type": "code",
   "execution_count": 51,
   "id": "ca03c55a",
   "metadata": {},
   "outputs": [
    {
     "data": {
      "text/plain": [
       "{1, 2, 3, 4, 6, 11, 33, 44}"
      ]
     },
     "execution_count": 51,
     "metadata": {},
     "output_type": "execute_result"
    }
   ],
   "source": [
    "my_st3.symmetric_difference(my_st4)"
   ]
  },
  {
   "cell_type": "code",
   "execution_count": 52,
   "id": "c5a86891",
   "metadata": {},
   "outputs": [
    {
     "data": {
      "text/plain": [
       "{2, 3, 5, 6, 11, 33, 44}"
      ]
     },
     "execution_count": 52,
     "metadata": {},
     "output_type": "execute_result"
    }
   ],
   "source": [
    "my_set.union(my_st4)"
   ]
  },
  {
   "cell_type": "code",
   "execution_count": 53,
   "id": "9fc425ec",
   "metadata": {},
   "outputs": [],
   "source": [
    "my_st3.symmetric_difference_update(my_st4)"
   ]
  },
  {
   "cell_type": "code",
   "execution_count": 54,
   "id": "e160e512",
   "metadata": {},
   "outputs": [
    {
     "data": {
      "text/plain": [
       "{1, 2, 3, 4, 6, 11, 33, 44}"
      ]
     },
     "execution_count": 54,
     "metadata": {},
     "output_type": "execute_result"
    }
   ],
   "source": [
    "my_st3"
   ]
  },
  {
   "cell_type": "code",
   "execution_count": null,
   "id": "5414a9a2",
   "metadata": {},
   "outputs": [],
   "source": []
  },
  {
   "cell_type": "code",
   "execution_count": null,
   "id": "cf0a4e00",
   "metadata": {},
   "outputs": [],
   "source": []
  },
  {
   "cell_type": "code",
   "execution_count": null,
   "id": "e7ed15e6",
   "metadata": {},
   "outputs": [],
   "source": []
  },
  {
   "cell_type": "code",
   "execution_count": null,
   "id": "2ab44ef8",
   "metadata": {},
   "outputs": [],
   "source": []
  },
  {
   "cell_type": "code",
   "execution_count": null,
   "id": "e8eb35e5",
   "metadata": {},
   "outputs": [],
   "source": []
  },
  {
   "cell_type": "code",
   "execution_count": null,
   "id": "c64793a1",
   "metadata": {},
   "outputs": [],
   "source": []
  },
  {
   "cell_type": "code",
   "execution_count": null,
   "id": "e84034e9",
   "metadata": {},
   "outputs": [],
   "source": []
  },
  {
   "cell_type": "code",
   "execution_count": null,
   "id": "18b1daa7",
   "metadata": {},
   "outputs": [],
   "source": []
  }
 ],
 "metadata": {
  "kernelspec": {
   "display_name": "Python 3 (ipykernel)",
   "language": "python",
   "name": "python3"
  },
  "language_info": {
   "codemirror_mode": {
    "name": "ipython",
    "version": 3
   },
   "file_extension": ".py",
   "mimetype": "text/x-python",
   "name": "python",
   "nbconvert_exporter": "python",
   "pygments_lexer": "ipython3",
   "version": "3.9.7"
  }
 },
 "nbformat": 4,
 "nbformat_minor": 5
}
