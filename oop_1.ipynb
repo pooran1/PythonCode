{
 "cells": [
  {
   "cell_type": "markdown",
   "id": "daea2b14",
   "metadata": {},
   "source": [
    "functions base(diffrent_approch / procedure (low level language same ))\n",
    "\n",
    "repetade line we use for loop:\n",
    "    code reusbility \n",
    "    (problem 50 implet dirct remetate) is ko door ker ne ke lia him ne function bena dya pher aus ko reuse ker te ja re hn\n",
    "\n",
    "\n"
   ]
  },
  {
   "cell_type": "markdown",
   "id": "52d42c25",
   "metadata": {},
   "source": [
    "object oriented programming\n",
    "\n",
    "dynamic bena te hn\n",
    "esay to use read\n",
    "reusebility bar ja hn \n",
    "\n",
    "paradime \n",
    "\n",
    "\n",
    "kisi be cheeze ko him object ke te hn \n",
    "\n",
    "object:\n",
    "    bacha hn \n",
    "    \n",
    "class:\n",
    "    baap hn\n",
    "    \n",
    "if any thing is object that must have class\n",
    "\n",
    "\n"
   ]
  },
  {
   "cell_type": "markdown",
   "id": "d4b65b7d",
   "metadata": {},
   "source": [
    "class : is blue print(naksha)\n",
    "class:\n",
    "is map of attributr(propaties ) or charactersistc(function in class is class module (method ) ) ke \n",
    "propaties and behavior\n",
    "\n",
    "evey object aus k feature(size color) and behavior(task(up down)) \n",
    "    "
   ]
  },
  {
   "cell_type": "markdown",
   "id": "56bea24e",
   "metadata": {},
   "source": [
    "class  gernal fucture  (mandanry ho te hn )\n",
    "object = ager object hn to vo har cheze class me hon ge ho ge "
   ]
  },
  {
   "cell_type": "markdown",
   "id": "17e19ec9",
   "metadata": {},
   "source": [
    "# object orientated programming"
   ]
  },
  {
   "cell_type": "code",
   "execution_count": 6,
   "id": "baa9f11f",
   "metadata": {},
   "outputs": [],
   "source": [
    "class Student():\n",
    "        # all the varible are features/propaties /attribute/charcherstic\n",
    "    # varible is class tye varibe(value assing hn ) \n",
    "    roll_no= 100\n",
    "    Name= \"pooran\"\n",
    "    course=\"DS&AI\"\n",
    "    school = \"SMIT\"\n",
    "    \n",
    "    #all the function are behaviours/actions/methods\n",
    "    def study(self):\n",
    "        print(\"student is study\")\n",
    "    def exam(self):\n",
    "        print(\"student is exam\")\n",
    "    def fee(self):\n",
    "        print(\"student pay fee\")\n",
    "    \n",
    "    "
   ]
  },
  {
   "cell_type": "code",
   "execution_count": null,
   "id": "72b7cf42",
   "metadata": {},
   "outputs": [],
   "source": []
  },
  {
   "cell_type": "code",
   "execution_count": 8,
   "id": "c979db6d",
   "metadata": {},
   "outputs": [],
   "source": [
    "st= Student()"
   ]
  },
  {
   "cell_type": "code",
   "execution_count": null,
   "id": "cba67961",
   "metadata": {},
   "outputs": [],
   "source": []
  },
  {
   "cell_type": "code",
   "execution_count": 9,
   "id": "8a7afc73",
   "metadata": {},
   "outputs": [
    {
     "data": {
      "text/plain": [
       "'pooran'"
      ]
     },
     "execution_count": 9,
     "metadata": {},
     "output_type": "execute_result"
    }
   ],
   "source": [
    "st.Name"
   ]
  },
  {
   "cell_type": "code",
   "execution_count": null,
   "id": "1b03ddaf",
   "metadata": {},
   "outputs": [],
   "source": []
  },
  {
   "cell_type": "code",
   "execution_count": 4,
   "id": "f86d0122",
   "metadata": {},
   "outputs": [
    {
     "data": {
      "text/plain": [
       "100"
      ]
     },
     "execution_count": 4,
     "metadata": {},
     "output_type": "execute_result"
    }
   ],
   "source": [
    "st.roll_no"
   ]
  },
  {
   "cell_type": "code",
   "execution_count": 10,
   "id": "f4653fb0",
   "metadata": {},
   "outputs": [
    {
     "name": "stdout",
     "output_type": "stream",
     "text": [
      "student is study\n"
     ]
    }
   ],
   "source": [
    "st.study()"
   ]
  },
  {
   "cell_type": "code",
   "execution_count": 11,
   "id": "21f1136b",
   "metadata": {},
   "outputs": [
    {
     "name": "stdout",
     "output_type": "stream",
     "text": [
      "student pay fee\n"
     ]
    }
   ],
   "source": [
    "st.fee()"
   ]
  },
  {
   "cell_type": "code",
   "execution_count": 13,
   "id": "f35fdae9",
   "metadata": {},
   "outputs": [],
   "source": [
    "st2=Student()\n"
   ]
  },
  {
   "cell_type": "code",
   "execution_count": 15,
   "id": "fafa7188",
   "metadata": {},
   "outputs": [
    {
     "data": {
      "text/plain": [
       "'pooran'"
      ]
     },
     "execution_count": 15,
     "metadata": {},
     "output_type": "execute_result"
    }
   ],
   "source": [
    "st2.Name"
   ]
  },
  {
   "cell_type": "code",
   "execution_count": 16,
   "id": "0ed95781",
   "metadata": {},
   "outputs": [
    {
     "data": {
      "text/plain": [
       "100"
      ]
     },
     "execution_count": 16,
     "metadata": {},
     "output_type": "execute_result"
    }
   ],
   "source": [
    "st2.roll_no"
   ]
  },
  {
   "cell_type": "code",
   "execution_count": null,
   "id": "5befcb22",
   "metadata": {},
   "outputs": [],
   "source": []
  },
  {
   "cell_type": "code",
   "execution_count": 17,
   "id": "0e8ff596",
   "metadata": {},
   "outputs": [],
   "source": [
    "class Patient():\n",
    "    # all the varible are features/propaties /attribute/charcherstic\n",
    "    # varible is class tye varibe(value assing hn ) \n",
    "    \n",
    "    patient_no= 100\n",
    "    Name= \"partab\"\n",
    "    Ward_name=\"covid_19\"\n",
    "    hospital_name= \"Dow\"\n",
    "    \n",
    "    #all the function are behaviours/actions/methods\n",
    "    def sleep(self):\n",
    "        print(\"patient take rest\")\n",
    "    def eat(self):\n",
    "        print(\"patient take food\")\n",
    "    def medican(self):\n",
    "        print(\"patient take medicann\")\n",
    "    "
   ]
  },
  {
   "cell_type": "code",
   "execution_count": 19,
   "id": "c1c2b3ee",
   "metadata": {},
   "outputs": [],
   "source": [
    "#create object\n",
    "pt=Patient()"
   ]
  },
  {
   "cell_type": "code",
   "execution_count": 20,
   "id": "4a64eaa3",
   "metadata": {},
   "outputs": [
    {
     "data": {
      "text/plain": [
       "'partab'"
      ]
     },
     "execution_count": 20,
     "metadata": {},
     "output_type": "execute_result"
    }
   ],
   "source": [
    "#define object \n",
    "pt.Name"
   ]
  },
  {
   "cell_type": "code",
   "execution_count": 21,
   "id": "438e6cd6",
   "metadata": {},
   "outputs": [
    {
     "data": {
      "text/plain": [
       "'covid_19'"
      ]
     },
     "execution_count": 21,
     "metadata": {},
     "output_type": "execute_result"
    }
   ],
   "source": [
    "pt.Ward_name"
   ]
  },
  {
   "cell_type": "code",
   "execution_count": 22,
   "id": "3ce17f2e",
   "metadata": {},
   "outputs": [
    {
     "name": "stdout",
     "output_type": "stream",
     "text": [
      "patient take rest\n"
     ]
    }
   ],
   "source": [
    "pt.sleep()"
   ]
  },
  {
   "cell_type": "code",
   "execution_count": null,
   "id": "7b351416",
   "metadata": {},
   "outputs": [],
   "source": [
    "object = instance \n",
    "object tyepe varilbe"
   ]
  },
  {
   "cell_type": "code",
   "execution_count": 32,
   "id": "d756de19",
   "metadata": {},
   "outputs": [],
   "source": [
    "class Student1():\n",
    "    # all the varible are features/propaties /attribute/charcherstic\n",
    "    # varible is object type varibe(value assing hn )\n",
    "    #conscator use the odject assign a value one time \n",
    "    def __init__(self, name, roll_no, course,school):\n",
    "        self.name= name\n",
    "        self.roll_no = roll_no\n",
    "        self.course= course\n",
    "        self.school= school\n",
    "    \n",
    "        #all the function are behaviours/actions/methods\n",
    "    def study(self):\n",
    "        print(f\"{self.name} is study\")\n",
    "    def exam(self):\n",
    "        print(f\"{self.name} is exam\")\n",
    "    def fee(self):\n",
    "        print(f\"{self.name} pay fee\")\n",
    "    "
   ]
  },
  {
   "cell_type": "code",
   "execution_count": 35,
   "id": "134ec418",
   "metadata": {},
   "outputs": [
    {
     "ename": "TypeError",
     "evalue": "__init__() missing 4 required positional arguments: 'name', 'roll_no', 'course', and 'school'",
     "output_type": "error",
     "traceback": [
      "\u001b[1;31m---------------------------------------------------------------------------\u001b[0m",
      "\u001b[1;31mTypeError\u001b[0m                                 Traceback (most recent call last)",
      "\u001b[1;32mC:\\Users\\LAB02R~1\\AppData\\Local\\Temp/ipykernel_9732/1113617826.py\u001b[0m in \u001b[0;36m<module>\u001b[1;34m\u001b[0m\n\u001b[1;32m----> 1\u001b[1;33m \u001b[0mst\u001b[0m\u001b[1;33m=\u001b[0m\u001b[0mStudent1\u001b[0m\u001b[1;33m(\u001b[0m\u001b[1;33m)\u001b[0m\u001b[1;33m\u001b[0m\u001b[1;33m\u001b[0m\u001b[0m\n\u001b[0m",
      "\u001b[1;31mTypeError\u001b[0m: __init__() missing 4 required positional arguments: 'name', 'roll_no', 'course', and 'school'"
     ]
    }
   ],
   "source": [
    "st=Student1()"
   ]
  },
  {
   "cell_type": "raw",
   "id": "f65502e4",
   "metadata": {},
   "source": [
    "self ke inder object ka name chala jata hn (refreance)\n"
   ]
  },
  {
   "cell_type": "code",
   "execution_count": 33,
   "id": "c545e73e",
   "metadata": {},
   "outputs": [],
   "source": [
    "st=Student1('pooran',1,'DS&AI','SMIT')"
   ]
  },
  {
   "cell_type": "code",
   "execution_count": 40,
   "id": "cb4b2c74",
   "metadata": {},
   "outputs": [
    {
     "data": {
      "text/plain": [
       "'pooran'"
      ]
     },
     "execution_count": 40,
     "metadata": {},
     "output_type": "execute_result"
    }
   ],
   "source": [
    "st.name"
   ]
  },
  {
   "cell_type": "code",
   "execution_count": 42,
   "id": "b5d45c8b",
   "metadata": {},
   "outputs": [
    {
     "name": "stdout",
     "output_type": "stream",
     "text": [
      "pooran is study\n"
     ]
    }
   ],
   "source": [
    "st.study()"
   ]
  },
  {
   "cell_type": "raw",
   "id": "c165f426",
   "metadata": {},
   "source": [
    "har object ke copy benti re te hn "
   ]
  },
  {
   "cell_type": "code",
   "execution_count": 36,
   "id": "d6f2c592",
   "metadata": {},
   "outputs": [],
   "source": [
    "st2=Student1('arun',2,'mbbs','LUMHS')"
   ]
  },
  {
   "cell_type": "code",
   "execution_count": 37,
   "id": "e160cb73",
   "metadata": {},
   "outputs": [
    {
     "data": {
      "text/plain": [
       "'arun'"
      ]
     },
     "execution_count": 37,
     "metadata": {},
     "output_type": "execute_result"
    }
   ],
   "source": [
    "st2.name"
   ]
  },
  {
   "cell_type": "code",
   "execution_count": 39,
   "id": "de632c3f",
   "metadata": {},
   "outputs": [
    {
     "name": "stdout",
     "output_type": "stream",
     "text": [
      "arun is study\n"
     ]
    }
   ],
   "source": [
    "st2.study()"
   ]
  },
  {
   "cell_type": "code",
   "execution_count": null,
   "id": "2d021564",
   "metadata": {},
   "outputs": [],
   "source": []
  },
  {
   "cell_type": "code",
   "execution_count": 43,
   "id": "87cd0084",
   "metadata": {},
   "outputs": [],
   "source": [
    "class Student2():\n",
    "    # all the varible are features/propaties /attribute/charcherstic\n",
    "    # varible is object type varibe(value assing hn )\n",
    "    #conscator use the odject assign a value one time \n",
    "    def __init__(abc, name, roll_no, course,school):\n",
    "        abc.name= name\n",
    "        abc.roll_no = roll_no\n",
    "        abc.course= course\n",
    "        abc.school= school\n",
    "    \n",
    "        #all the function are behaviours/actions/methods\n",
    "    def study(abc):\n",
    "        print(f\"{self.name} is study\")\n",
    "    def exam(abc):\n",
    "        print(f\"{self.name} is exam\")\n",
    "    def fee(abc):\n",
    "        print(f\"{self.name} pay fee\")"
   ]
  },
  {
   "cell_type": "code",
   "execution_count": 44,
   "id": "529f4bee",
   "metadata": {},
   "outputs": [],
   "source": [
    "st3=Student2('rahul',3,'mbbs','LUMHS')"
   ]
  },
  {
   "cell_type": "code",
   "execution_count": 45,
   "id": "13c91d9a",
   "metadata": {},
   "outputs": [
    {
     "data": {
      "text/plain": [
       "'rahul'"
      ]
     },
     "execution_count": 45,
     "metadata": {},
     "output_type": "execute_result"
    }
   ],
   "source": [
    "st3.name"
   ]
  },
  {
   "cell_type": "code",
   "execution_count": null,
   "id": "63ca4ce6",
   "metadata": {},
   "outputs": [],
   "source": []
  },
  {
   "cell_type": "code",
   "execution_count": null,
   "id": "518f548b",
   "metadata": {},
   "outputs": [],
   "source": []
  },
  {
   "cell_type": "code",
   "execution_count": null,
   "id": "c0a2c643",
   "metadata": {},
   "outputs": [],
   "source": []
  },
  {
   "cell_type": "code",
   "execution_count": null,
   "id": "0bbcde9e",
   "metadata": {},
   "outputs": [],
   "source": []
  },
  {
   "cell_type": "code",
   "execution_count": null,
   "id": "2b5150de",
   "metadata": {},
   "outputs": [],
   "source": []
  },
  {
   "cell_type": "code",
   "execution_count": null,
   "id": "6db09582",
   "metadata": {},
   "outputs": [],
   "source": []
  }
 ],
 "metadata": {
  "kernelspec": {
   "display_name": "Python 3 (ipykernel)",
   "language": "python",
   "name": "python3"
  },
  "language_info": {
   "codemirror_mode": {
    "name": "ipython",
    "version": 3
   },
   "file_extension": ".py",
   "mimetype": "text/x-python",
   "name": "python",
   "nbconvert_exporter": "python",
   "pygments_lexer": "ipython3",
   "version": "3.9.7"
  }
 },
 "nbformat": 4,
 "nbformat_minor": 5
}
