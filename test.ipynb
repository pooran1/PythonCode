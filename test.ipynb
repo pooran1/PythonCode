{
 "cells": [
  {
   "cell_type": "code",
   "execution_count": 3,
   "id": "4095a266",
   "metadata": {},
   "outputs": [],
   "source": [
    "s={1,3,4,5,5,78}"
   ]
  },
  {
   "cell_type": "code",
   "execution_count": 4,
   "id": "b3646f7f",
   "metadata": {},
   "outputs": [
    {
     "name": "stdout",
     "output_type": "stream",
     "text": [
      "[1, 23, 4, 5]\n",
      "[1, 23, 4, 5, 6]\n"
     ]
    }
   ],
   "source": [
    "a=[1,23,4,5]\n",
    "b=a[:]\n",
    "b.append(6)\n",
    "print(a)\n",
    "print(b)"
   ]
  },
  {
   "cell_type": "code",
   "execution_count": null,
   "id": "64dc6a65",
   "metadata": {},
   "outputs": [],
   "source": [
    "a=[1,23,4,5]\n",
    "b=a.copy()\n",
    "b.append(6)\n",
    "print(a)\n",
    "print(b)"
   ]
  }
 ],
 "metadata": {
  "kernelspec": {
   "display_name": "Python 3 (ipykernel)",
   "language": "python",
   "name": "python3"
  },
  "language_info": {
   "codemirror_mode": {
    "name": "ipython",
    "version": 3
   },
   "file_extension": ".py",
   "mimetype": "text/x-python",
   "name": "python",
   "nbconvert_exporter": "python",
   "pygments_lexer": "ipython3",
   "version": "3.9.7"
  }
 },
 "nbformat": 4,
 "nbformat_minor": 5
}
